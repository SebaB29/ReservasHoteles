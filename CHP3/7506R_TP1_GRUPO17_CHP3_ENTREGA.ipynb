{
  "nbformat": 4,
  "nbformat_minor": 0,
  "metadata": {
    "colab": {
      "provenance": [],
      "collapsed_sections": [
        "3IOoC9KlsocT",
        "Frvze8Cj_ncm",
        "2mwRdRsvqnfZ",
        "p-HjUssJqz_i",
        "a8x55m0ey2-b",
        "JAtvcDKR50mq",
        "NVJV7V4ub2Ss",
        "UWWHQPydDtit",
        "jygqzrTjVU1z",
        "MYjsFqyBZ-p0",
        "-PE-A3dkOo7-",
        "HeVxu6tiOfuj",
        "N-5P70-zEpUQ",
        "KBRkf8HhEsQm",
        "gIDXZfywGZ8C",
        "1C95-HxlKgJp",
        "JqidLr0gaXJt",
        "udPsmRSKdNTJ",
        "wlh4jn3jBRnt",
        "2AoTnPkxPs6j",
        "L8ssiEbhPs6k",
        "7oYcMY_NKvSx",
        "-I3BnSdIvBNN",
        "fbwegq32oedh",
        "AVTsDp8sqRPn",
        "l_YbrbFapXde",
        "E7_b-wYLpXdf",
        "LauTya26pXdf",
        "GmFPnUcMpXdf",
        "5Ul48CKrAxxt",
        "mOm8jSxNX0Rz",
        "TBNXA4U1Rs6n",
        "YIFKkaLJPmHp",
        "xnPTIflAPmHq",
        "OmGw5OXXQT2l",
        "hnvM3vR1QT2n",
        "CIdB3lDzSWqo",
        "DUNEwxJlSgoy",
        "6Jix1uwQVQCW",
        "rZ4HRSvlVQCX",
        "2LrKF8dWVQCX",
        "-X0nbEZfVkPf",
        "IpZJfeD0XjIo",
        "JfN_OEWZXjIp",
        "Hj95K3XKXjIp",
        "dHknCDGOViS2",
        "sY7--h35qCjV",
        "PRZKcDVkqJyz",
        "sHn3qzrobXVO",
        "a4L_hbiqbXVQ",
        "NZfTtEpjcCsR",
        "sKxgJDMJnSnk",
        "Siw4GcwKpgUh",
        "yMzACMnl-pmi"
      ]
    },
    "kernelspec": {
      "name": "python3",
      "display_name": "Python 3"
    },
    "language_info": {
      "name": "python"
    }
  },
  "cells": [
    {
      "cell_type": "markdown",
      "metadata": {
        "id": "_O0vsbwNDa4V"
      },
      "source": [
        "<!DOCTYPE html>\n",
        "<html>\n",
        "  <body>\n",
        "    <div align=center>\n",
        "      <h1><b>Organización de Datos</b></h1>\n",
        "      <p>Cátedra Rodriguez - 95.58</p>\n",
        "      <img src=\"https://upload.wikimedia.org/wikipedia/commons/thumb/0/0d/FIUBA_gris_transparente.png/800px-FIUBA_gris_transparente.png\" alt=\"logo\" width=\"300\">\n",
        "      <h2><b>Trabajo Práctico N°1: Reservas de Hotel</b></h2>\n",
        "    </div>\n",
        "    <h3>Integrantes del <b>Grupo 17 (Systeam)</b></h3>\n",
        "    <ul>\n",
        "        <li>Agha Zadeh Dehdeh, Lucía. P: 106905</li>\n",
        "        <li>Brizuela, Sebastián. P: 105288</li>\n",
        "        <li>Del Rio, Juan Sebastián. P: 103337</li>\n",
        "    </ul>\n",
        "  </body>\n",
        "</html>"
      ]
    },
    {
      "cell_type": "markdown",
      "metadata": {
        "id": "3IOoC9KlsocT"
      },
      "source": [
        "# Librerías"
      ]
    },
    {
      "cell_type": "code",
      "execution_count": null,
      "metadata": {
        "id": "V08_Db4fDT1J"
      },
      "outputs": [],
      "source": [
        "import pandas as pd\n",
        "import numpy as np\n",
        "\n",
        "import joblib\n",
        "\n",
        "#Visualización\n",
        "import matplotlib.pyplot as plt\n",
        "import seaborn as sns\n",
        "\n",
        "#Modelos y métricas\n",
        "from sklearn.model_selection import train_test_split, StratifiedKFold, RandomizedSearchCV\n",
        "from sklearn.metrics import precision_score, recall_score, accuracy_score, f1_score\n",
        "from sklearn.metrics import confusion_matrix, classification_report\n",
        "from sklearn.neighbors import KNeighborsClassifier\n",
        "from sklearn.svm import SVC\n",
        "from sklearn.ensemble import RandomForestClassifier\n",
        "import xgboost as xgb\n",
        "from sklearn.ensemble import VotingClassifier\n",
        "from sklearn.ensemble import StackingClassifier\n",
        "\n",
        "from sklearn import preprocessing\n",
        "from sklearn.model_selection import GridSearchCV\n",
        "\n",
        "#Configuración warnings\n",
        "import warnings\n",
        "warnings.simplefilter(action=\"ignore\", category=FutureWarning)\n",
        "warnings.simplefilter(action=\"ignore\", category=UserWarning)"
      ]
    },
    {
      "cell_type": "markdown",
      "source": [
        "# Dataframe principal"
      ],
      "metadata": {
        "id": "Frvze8Cj_ncm"
      }
    },
    {
      "cell_type": "markdown",
      "metadata": {
        "id": "2mwRdRsvqnfZ"
      },
      "source": [
        "### Carga del dataframe"
      ]
    },
    {
      "cell_type": "code",
      "execution_count": null,
      "metadata": {
        "id": "Qb0FPsA7BWKY"
      },
      "outputs": [],
      "source": [
        "DF_HOTEL_TRAIN = pd.read_csv(\"./sample_data/hotel_train_procesado.csv\") # Cargamos en memoria el dataset"
      ]
    },
    {
      "cell_type": "code",
      "execution_count": null,
      "metadata": {
        "id": "ZYjUOO0dRDaB"
      },
      "outputs": [],
      "source": [
        "df_hotel_copy = DF_HOTEL_TRAIN.copy()"
      ]
    },
    {
      "cell_type": "markdown",
      "metadata": {
        "id": "p-HjUssJqz_i"
      },
      "source": [
        "###Preprocesamiento"
      ]
    },
    {
      "cell_type": "markdown",
      "metadata": {
        "id": "mmgC_WDcA4KF"
      },
      "source": [
        "Se determinó como nuevas variables relevantes “market_segment“, “distribution_channel“, “customer_type“, “required_car_parking_spaces“ al analizar nuevamente los gráficos, realizar pruebas con los modelos implementados y ver una mejoría en las métricas."
      ]
    },
    {
      "cell_type": "code",
      "execution_count": null,
      "metadata": {
        "id": "mCkz5isPcszN"
      },
      "outputs": [],
      "source": [
        "columnas_a_eliminar = [\n",
        "    \"children\", \"arrival_date_year\", \"arrival_date_month\",\n",
        "    \"arrival_date_week_number\", \"arrival_date_day_of_month\",\n",
        "    \"stays_in_weekend_nights\", \"stays_in_week_nights\", \"babies\",\n",
        "    \"meal\", \"adr\", \"id\", \"cantidad_personas_total\"\n",
        "]\n",
        "\n",
        "df_hotel_copy.drop(columnas_a_eliminar, axis=\"columns\", inplace=True)\n"
      ]
    },
    {
      "cell_type": "code",
      "execution_count": null,
      "metadata": {
        "id": "rNTjuReUQuSU"
      },
      "outputs": [],
      "source": [
        "columnas_categoricas = [\"hotel\", \"country\", \"reserved_room_type\", \"assigned_room_type\", \"deposit_type\",\"agent\", 'market_segment', 'distribution_channel', 'customer_type']\n",
        "\n",
        "#One Hot encoding\n",
        "df_hotel_copy = pd.get_dummies(df_hotel_copy, columns=columnas_categoricas, drop_first=True)\n"
      ]
    },
    {
      "cell_type": "code",
      "execution_count": null,
      "metadata": {
        "id": "OqEEyJAYT0OX"
      },
      "outputs": [],
      "source": [
        "df_hotel_copy.sort_index(axis=\"columns\", inplace=True) # Reordeno para que coincida el orden con df_hotel_test"
      ]
    },
    {
      "cell_type": "markdown",
      "metadata": {
        "id": "a8x55m0ey2-b"
      },
      "source": [
        "## Target"
      ]
    },
    {
      "cell_type": "code",
      "execution_count": null,
      "metadata": {
        "id": "_ycpyV20rHsn",
        "colab": {
          "base_uri": "https://localhost:8080/"
        },
        "outputId": "22a6203e-06b0-4528-ebb5-d1f81a02db8e"
      },
      "outputs": [
        {
          "output_type": "execute_result",
          "data": {
            "text/plain": [
              "1    50.221485\n",
              "0    49.778515\n",
              "Name: is_canceled, dtype: float64"
            ]
          },
          "metadata": {},
          "execution_count": 7
        }
      ],
      "source": [
        "target = \"is_canceled\"\n",
        "\n",
        "#Se muestra el porcentaje de aparición de cada clase\n",
        "df_hotel_copy[target].value_counts(normalize=True) * 100"
      ]
    },
    {
      "cell_type": "markdown",
      "metadata": {
        "id": "JAtvcDKR50mq"
      },
      "source": [
        "## División de datos entrenamiento y prueba"
      ]
    },
    {
      "cell_type": "code",
      "execution_count": null,
      "metadata": {
        "id": "bIHpdcAy6BTU",
        "colab": {
          "base_uri": "https://localhost:8080/"
        },
        "outputId": "1649795d-9b64-4e9a-8187-09a8c9e11d98"
      },
      "outputs": [
        {
          "output_type": "stream",
          "name": "stdout",
          "text": [
            "# Datos Entrenamiento: 48220\n",
            "# Datos Prueba: 12055\n"
          ]
        }
      ],
      "source": [
        "df_hotel_copy_x = df_hotel_copy.drop([target], axis=\"columns\" ,inplace=False)\n",
        "\n",
        "df_hotel_copy_y = df_hotel_copy[target].copy()\n",
        "\n",
        "x_train, x_test, y_train, y_test = train_test_split(df_hotel_copy_x, df_hotel_copy_y, test_size = 0.2, random_state = 17, stratify = df_hotel_copy[target].values)\n",
        "\n",
        "print(f\"# Datos Entrenamiento: {len(x_train)}\")\n",
        "print(f\"# Datos Prueba: {len(x_test)}\")"
      ]
    },
    {
      "cell_type": "markdown",
      "source": [
        "#Importación de modelos"
      ],
      "metadata": {
        "id": "NVJV7V4ub2Ss"
      }
    },
    {
      "cell_type": "markdown",
      "source": [
        "Para agilizar la ejecución de los algoritmos utilizamos copias de la notebook para entrenar los modelos en paralelo.\n",
        "\n",
        "Para la importación y exportación de los mismos utilizamos la librería joblib."
      ],
      "metadata": {
        "id": "Bgz7B2zIcELw"
      }
    },
    {
      "cell_type": "markdown",
      "source": [
        "# KNN"
      ],
      "metadata": {
        "id": "UWWHQPydDtit"
      }
    },
    {
      "cell_type": "markdown",
      "source": [
        "###Carga de modelos"
      ],
      "metadata": {
        "id": "jygqzrTjVU1z"
      }
    },
    {
      "cell_type": "code",
      "source": [
        "# Cargar el modelo desde un archivo Joblib\n",
        "knn_modelo_importado = joblib.load('modelo_knn.joblib')"
      ],
      "metadata": {
        "id": "azln1O3kVTQi"
      },
      "execution_count": null,
      "outputs": []
    },
    {
      "cell_type": "markdown",
      "source": [
        "### Busqueda de los mejores hiperparámetros"
      ],
      "metadata": {
        "id": "MYjsFqyBZ-p0"
      }
    },
    {
      "cell_type": "code",
      "source": [
        "#Grilla de Parámetros\n",
        "params_grid = { 'n_neighbors':range(10,15),\n",
        "              'weights':['distance','uniform'],\n",
        "              'algorithm':['ball_tree', 'kd_tree', 'brute'],\n",
        "              'metric':['euclidean','manhattan','chebyshev']\n",
        "             }\n",
        "\n",
        "#Clasificador KNN\n",
        "knn = KNeighborsClassifier()\n",
        "\n",
        "#Random Search con 10 Folds y 10 iteraciones\n",
        "rand = RandomizedSearchCV(knn, params_grid, cv=10, scoring='f1', n_iter=10, random_state=5)\n",
        "\n",
        "rand.fit(x_train, y_train)"
      ],
      "metadata": {
        "colab": {
          "base_uri": "https://localhost:8080/",
          "height": 118
        },
        "id": "YvYuw96iPZdI",
        "outputId": "96844395-ffc4-494c-d5e2-31d67fadc8de"
      },
      "execution_count": null,
      "outputs": [
        {
          "output_type": "execute_result",
          "data": {
            "text/plain": [
              "RandomizedSearchCV(cv=10, estimator=KNeighborsClassifier(),\n",
              "                   param_distributions={'algorithm': ['ball_tree', 'kd_tree',\n",
              "                                                      'brute'],\n",
              "                                        'metric': ['euclidean', 'manhattan',\n",
              "                                                   'chebyshev'],\n",
              "                                        'n_neighbors': range(10, 15),\n",
              "                                        'weights': ['distance', 'uniform']},\n",
              "                   random_state=5, scoring='f1')"
            ],
            "text/html": [
              "<style>#sk-container-id-2 {color: black;background-color: white;}#sk-container-id-2 pre{padding: 0;}#sk-container-id-2 div.sk-toggleable {background-color: white;}#sk-container-id-2 label.sk-toggleable__label {cursor: pointer;display: block;width: 100%;margin-bottom: 0;padding: 0.3em;box-sizing: border-box;text-align: center;}#sk-container-id-2 label.sk-toggleable__label-arrow:before {content: \"▸\";float: left;margin-right: 0.25em;color: #696969;}#sk-container-id-2 label.sk-toggleable__label-arrow:hover:before {color: black;}#sk-container-id-2 div.sk-estimator:hover label.sk-toggleable__label-arrow:before {color: black;}#sk-container-id-2 div.sk-toggleable__content {max-height: 0;max-width: 0;overflow: hidden;text-align: left;background-color: #f0f8ff;}#sk-container-id-2 div.sk-toggleable__content pre {margin: 0.2em;color: black;border-radius: 0.25em;background-color: #f0f8ff;}#sk-container-id-2 input.sk-toggleable__control:checked~div.sk-toggleable__content {max-height: 200px;max-width: 100%;overflow: auto;}#sk-container-id-2 input.sk-toggleable__control:checked~label.sk-toggleable__label-arrow:before {content: \"▾\";}#sk-container-id-2 div.sk-estimator input.sk-toggleable__control:checked~label.sk-toggleable__label {background-color: #d4ebff;}#sk-container-id-2 div.sk-label input.sk-toggleable__control:checked~label.sk-toggleable__label {background-color: #d4ebff;}#sk-container-id-2 input.sk-hidden--visually {border: 0;clip: rect(1px 1px 1px 1px);clip: rect(1px, 1px, 1px, 1px);height: 1px;margin: -1px;overflow: hidden;padding: 0;position: absolute;width: 1px;}#sk-container-id-2 div.sk-estimator {font-family: monospace;background-color: #f0f8ff;border: 1px dotted black;border-radius: 0.25em;box-sizing: border-box;margin-bottom: 0.5em;}#sk-container-id-2 div.sk-estimator:hover {background-color: #d4ebff;}#sk-container-id-2 div.sk-parallel-item::after {content: \"\";width: 100%;border-bottom: 1px solid gray;flex-grow: 1;}#sk-container-id-2 div.sk-label:hover label.sk-toggleable__label {background-color: #d4ebff;}#sk-container-id-2 div.sk-serial::before {content: \"\";position: absolute;border-left: 1px solid gray;box-sizing: border-box;top: 0;bottom: 0;left: 50%;z-index: 0;}#sk-container-id-2 div.sk-serial {display: flex;flex-direction: column;align-items: center;background-color: white;padding-right: 0.2em;padding-left: 0.2em;position: relative;}#sk-container-id-2 div.sk-item {position: relative;z-index: 1;}#sk-container-id-2 div.sk-parallel {display: flex;align-items: stretch;justify-content: center;background-color: white;position: relative;}#sk-container-id-2 div.sk-item::before, #sk-container-id-2 div.sk-parallel-item::before {content: \"\";position: absolute;border-left: 1px solid gray;box-sizing: border-box;top: 0;bottom: 0;left: 50%;z-index: -1;}#sk-container-id-2 div.sk-parallel-item {display: flex;flex-direction: column;z-index: 1;position: relative;background-color: white;}#sk-container-id-2 div.sk-parallel-item:first-child::after {align-self: flex-end;width: 50%;}#sk-container-id-2 div.sk-parallel-item:last-child::after {align-self: flex-start;width: 50%;}#sk-container-id-2 div.sk-parallel-item:only-child::after {width: 0;}#sk-container-id-2 div.sk-dashed-wrapped {border: 1px dashed gray;margin: 0 0.4em 0.5em 0.4em;box-sizing: border-box;padding-bottom: 0.4em;background-color: white;}#sk-container-id-2 div.sk-label label {font-family: monospace;font-weight: bold;display: inline-block;line-height: 1.2em;}#sk-container-id-2 div.sk-label-container {text-align: center;}#sk-container-id-2 div.sk-container {/* jupyter's `normalize.less` sets `[hidden] { display: none; }` but bootstrap.min.css set `[hidden] { display: none !important; }` so we also need the `!important` here to be able to override the default hidden behavior on the sphinx rendered scikit-learn.org. See: https://github.com/scikit-learn/scikit-learn/issues/21755 */display: inline-block !important;position: relative;}#sk-container-id-2 div.sk-text-repr-fallback {display: none;}</style><div id=\"sk-container-id-2\" class=\"sk-top-container\"><div class=\"sk-text-repr-fallback\"><pre>RandomizedSearchCV(cv=10, estimator=KNeighborsClassifier(),\n",
              "                   param_distributions={&#x27;algorithm&#x27;: [&#x27;ball_tree&#x27;, &#x27;kd_tree&#x27;,\n",
              "                                                      &#x27;brute&#x27;],\n",
              "                                        &#x27;metric&#x27;: [&#x27;euclidean&#x27;, &#x27;manhattan&#x27;,\n",
              "                                                   &#x27;chebyshev&#x27;],\n",
              "                                        &#x27;n_neighbors&#x27;: range(10, 15),\n",
              "                                        &#x27;weights&#x27;: [&#x27;distance&#x27;, &#x27;uniform&#x27;]},\n",
              "                   random_state=5, scoring=&#x27;f1&#x27;)</pre><b>In a Jupyter environment, please rerun this cell to show the HTML representation or trust the notebook. <br />On GitHub, the HTML representation is unable to render, please try loading this page with nbviewer.org.</b></div><div class=\"sk-container\" hidden><div class=\"sk-item sk-dashed-wrapped\"><div class=\"sk-label-container\"><div class=\"sk-label sk-toggleable\"><input class=\"sk-toggleable__control sk-hidden--visually\" id=\"sk-estimator-id-2\" type=\"checkbox\" ><label for=\"sk-estimator-id-2\" class=\"sk-toggleable__label sk-toggleable__label-arrow\">RandomizedSearchCV</label><div class=\"sk-toggleable__content\"><pre>RandomizedSearchCV(cv=10, estimator=KNeighborsClassifier(),\n",
              "                   param_distributions={&#x27;algorithm&#x27;: [&#x27;ball_tree&#x27;, &#x27;kd_tree&#x27;,\n",
              "                                                      &#x27;brute&#x27;],\n",
              "                                        &#x27;metric&#x27;: [&#x27;euclidean&#x27;, &#x27;manhattan&#x27;,\n",
              "                                                   &#x27;chebyshev&#x27;],\n",
              "                                        &#x27;n_neighbors&#x27;: range(10, 15),\n",
              "                                        &#x27;weights&#x27;: [&#x27;distance&#x27;, &#x27;uniform&#x27;]},\n",
              "                   random_state=5, scoring=&#x27;f1&#x27;)</pre></div></div></div><div class=\"sk-parallel\"><div class=\"sk-parallel-item\"><div class=\"sk-item\"><div class=\"sk-label-container\"><div class=\"sk-label sk-toggleable\"><input class=\"sk-toggleable__control sk-hidden--visually\" id=\"sk-estimator-id-3\" type=\"checkbox\" ><label for=\"sk-estimator-id-3\" class=\"sk-toggleable__label sk-toggleable__label-arrow\">estimator: KNeighborsClassifier</label><div class=\"sk-toggleable__content\"><pre>KNeighborsClassifier()</pre></div></div></div><div class=\"sk-serial\"><div class=\"sk-item\"><div class=\"sk-estimator sk-toggleable\"><input class=\"sk-toggleable__control sk-hidden--visually\" id=\"sk-estimator-id-4\" type=\"checkbox\" ><label for=\"sk-estimator-id-4\" class=\"sk-toggleable__label sk-toggleable__label-arrow\">KNeighborsClassifier</label><div class=\"sk-toggleable__content\"><pre>KNeighborsClassifier()</pre></div></div></div></div></div></div></div></div></div></div>"
            ]
          },
          "metadata": {},
          "execution_count": 51
        }
      ]
    },
    {
      "cell_type": "code",
      "source": [
        "#Mejores hiperparametros\n",
        "print(rand.best_params_)\n",
        "\n",
        "#Mejor métrica\n",
        "print(rand.best_score_)"
      ],
      "metadata": {
        "colab": {
          "base_uri": "https://localhost:8080/"
        },
        "id": "xxB_LCSWSLhj",
        "outputId": "ed93126b-2cd6-4bae-aefa-6256c9ad7715"
      },
      "execution_count": null,
      "outputs": [
        {
          "output_type": "stream",
          "name": "stdout",
          "text": [
            "{'weights': 'distance', 'n_neighbors': 14, 'metric': 'manhattan', 'algorithm': 'kd_tree'}\n",
            "0.8183606574448845\n"
          ]
        }
      ]
    },
    {
      "cell_type": "markdown",
      "source": [
        "### KNN con mejores parámetros"
      ],
      "metadata": {
        "id": "-PE-A3dkOo7-"
      }
    },
    {
      "cell_type": "code",
      "source": [
        "#Mejor estimador\n",
        "knn = rand.best_estimator_"
      ],
      "metadata": {
        "id": "apbrFnCdOsYc",
        "colab": {
          "base_uri": "https://localhost:8080/",
          "height": 92
        },
        "outputId": "06cc400d-4c79-48e7-ad86-76aa069f3a39"
      },
      "execution_count": null,
      "outputs": [
        {
          "output_type": "execute_result",
          "data": {
            "text/plain": [
              "KNeighborsClassifier(algorithm='kd_tree', metric='manhattan', n_neighbors=14,\n",
              "                     weights='distance')"
            ],
            "text/html": [
              "<style>#sk-container-id-3 {color: black;background-color: white;}#sk-container-id-3 pre{padding: 0;}#sk-container-id-3 div.sk-toggleable {background-color: white;}#sk-container-id-3 label.sk-toggleable__label {cursor: pointer;display: block;width: 100%;margin-bottom: 0;padding: 0.3em;box-sizing: border-box;text-align: center;}#sk-container-id-3 label.sk-toggleable__label-arrow:before {content: \"▸\";float: left;margin-right: 0.25em;color: #696969;}#sk-container-id-3 label.sk-toggleable__label-arrow:hover:before {color: black;}#sk-container-id-3 div.sk-estimator:hover label.sk-toggleable__label-arrow:before {color: black;}#sk-container-id-3 div.sk-toggleable__content {max-height: 0;max-width: 0;overflow: hidden;text-align: left;background-color: #f0f8ff;}#sk-container-id-3 div.sk-toggleable__content pre {margin: 0.2em;color: black;border-radius: 0.25em;background-color: #f0f8ff;}#sk-container-id-3 input.sk-toggleable__control:checked~div.sk-toggleable__content {max-height: 200px;max-width: 100%;overflow: auto;}#sk-container-id-3 input.sk-toggleable__control:checked~label.sk-toggleable__label-arrow:before {content: \"▾\";}#sk-container-id-3 div.sk-estimator input.sk-toggleable__control:checked~label.sk-toggleable__label {background-color: #d4ebff;}#sk-container-id-3 div.sk-label input.sk-toggleable__control:checked~label.sk-toggleable__label {background-color: #d4ebff;}#sk-container-id-3 input.sk-hidden--visually {border: 0;clip: rect(1px 1px 1px 1px);clip: rect(1px, 1px, 1px, 1px);height: 1px;margin: -1px;overflow: hidden;padding: 0;position: absolute;width: 1px;}#sk-container-id-3 div.sk-estimator {font-family: monospace;background-color: #f0f8ff;border: 1px dotted black;border-radius: 0.25em;box-sizing: border-box;margin-bottom: 0.5em;}#sk-container-id-3 div.sk-estimator:hover {background-color: #d4ebff;}#sk-container-id-3 div.sk-parallel-item::after {content: \"\";width: 100%;border-bottom: 1px solid gray;flex-grow: 1;}#sk-container-id-3 div.sk-label:hover label.sk-toggleable__label {background-color: #d4ebff;}#sk-container-id-3 div.sk-serial::before {content: \"\";position: absolute;border-left: 1px solid gray;box-sizing: border-box;top: 0;bottom: 0;left: 50%;z-index: 0;}#sk-container-id-3 div.sk-serial {display: flex;flex-direction: column;align-items: center;background-color: white;padding-right: 0.2em;padding-left: 0.2em;position: relative;}#sk-container-id-3 div.sk-item {position: relative;z-index: 1;}#sk-container-id-3 div.sk-parallel {display: flex;align-items: stretch;justify-content: center;background-color: white;position: relative;}#sk-container-id-3 div.sk-item::before, #sk-container-id-3 div.sk-parallel-item::before {content: \"\";position: absolute;border-left: 1px solid gray;box-sizing: border-box;top: 0;bottom: 0;left: 50%;z-index: -1;}#sk-container-id-3 div.sk-parallel-item {display: flex;flex-direction: column;z-index: 1;position: relative;background-color: white;}#sk-container-id-3 div.sk-parallel-item:first-child::after {align-self: flex-end;width: 50%;}#sk-container-id-3 div.sk-parallel-item:last-child::after {align-self: flex-start;width: 50%;}#sk-container-id-3 div.sk-parallel-item:only-child::after {width: 0;}#sk-container-id-3 div.sk-dashed-wrapped {border: 1px dashed gray;margin: 0 0.4em 0.5em 0.4em;box-sizing: border-box;padding-bottom: 0.4em;background-color: white;}#sk-container-id-3 div.sk-label label {font-family: monospace;font-weight: bold;display: inline-block;line-height: 1.2em;}#sk-container-id-3 div.sk-label-container {text-align: center;}#sk-container-id-3 div.sk-container {/* jupyter's `normalize.less` sets `[hidden] { display: none; }` but bootstrap.min.css set `[hidden] { display: none !important; }` so we also need the `!important` here to be able to override the default hidden behavior on the sphinx rendered scikit-learn.org. See: https://github.com/scikit-learn/scikit-learn/issues/21755 */display: inline-block !important;position: relative;}#sk-container-id-3 div.sk-text-repr-fallback {display: none;}</style><div id=\"sk-container-id-3\" class=\"sk-top-container\"><div class=\"sk-text-repr-fallback\"><pre>KNeighborsClassifier(algorithm=&#x27;kd_tree&#x27;, metric=&#x27;manhattan&#x27;, n_neighbors=14,\n",
              "                     weights=&#x27;distance&#x27;)</pre><b>In a Jupyter environment, please rerun this cell to show the HTML representation or trust the notebook. <br />On GitHub, the HTML representation is unable to render, please try loading this page with nbviewer.org.</b></div><div class=\"sk-container\" hidden><div class=\"sk-item\"><div class=\"sk-estimator sk-toggleable\"><input class=\"sk-toggleable__control sk-hidden--visually\" id=\"sk-estimator-id-5\" type=\"checkbox\" checked><label for=\"sk-estimator-id-5\" class=\"sk-toggleable__label sk-toggleable__label-arrow\">KNeighborsClassifier</label><div class=\"sk-toggleable__content\"><pre>KNeighborsClassifier(algorithm=&#x27;kd_tree&#x27;, metric=&#x27;manhattan&#x27;, n_neighbors=14,\n",
              "                     weights=&#x27;distance&#x27;)</pre></div></div></div></div></div>"
            ]
          },
          "metadata": {},
          "execution_count": 53
        }
      ]
    },
    {
      "cell_type": "markdown",
      "source": [
        "### Predicción"
      ],
      "metadata": {
        "id": "HeVxu6tiOfuj"
      }
    },
    {
      "cell_type": "code",
      "source": [
        "#Predicción con mejor estimador\n",
        "y_pred_knn = knn_modelo_importado.predict(x_test)"
      ],
      "metadata": {
        "id": "DuOcgAoFSRsR"
      },
      "execution_count": null,
      "outputs": []
    },
    {
      "cell_type": "markdown",
      "metadata": {
        "id": "N-5P70-zEpUQ"
      },
      "source": [
        "### Métricas"
      ]
    },
    {
      "cell_type": "code",
      "execution_count": null,
      "metadata": {
        "colab": {
          "base_uri": "https://localhost:8080/"
        },
        "id": "rFC4HDXbEpUR",
        "outputId": "0377cfe5-55b9-4978-cd0e-5215d2a39993"
      },
      "outputs": [
        {
          "output_type": "stream",
          "name": "stdout",
          "text": [
            "Accuracy:  0.8062214848610535\n",
            "Recall:  0.8574496200858936\n",
            "Precision:  0.8163233212769303\n",
            "f1 score:  0.7789615846338536\n"
          ]
        }
      ],
      "source": [
        "#Calculo las métricas en el conjunto de evaluación\n",
        "print(\"Accuracy: \", accuracy_score(y_test, y_pred_knn))\n",
        "print(\"Recall: \", recall_score(y_test, y_pred_knn))\n",
        "print(\"Precision: \", f1_score(y_test, y_pred_knn))\n",
        "print(\"f1 score: \", precision_score(y_test, y_pred_knn))"
      ]
    },
    {
      "cell_type": "markdown",
      "source": [
        "## Matriz de confusión"
      ],
      "metadata": {
        "id": "KBRkf8HhEsQm"
      }
    },
    {
      "cell_type": "code",
      "source": [
        "#Matriz de Confusión\n",
        "cm = confusion_matrix(y_test, y_pred_knn)\n",
        "sns.heatmap(cm, cmap='Blues',annot=True,fmt='g')\n",
        "plt.xlabel('Predicted')\n",
        "plt.ylabel('True')"
      ],
      "metadata": {
        "colab": {
          "base_uri": "https://localhost:8080/",
          "height": 467
        },
        "id": "wnsLaippwp6I",
        "outputId": "a9b04d4a-169c-42a9-c23f-1ce91e14642c"
      },
      "execution_count": null,
      "outputs": [
        {
          "output_type": "execute_result",
          "data": {
            "text/plain": [
              "Text(50.722222222222214, 0.5, 'True')"
            ]
          },
          "metadata": {},
          "execution_count": 12
        },
        {
          "output_type": "display_data",
          "data": {
            "text/plain": [
              "<Figure size 640x480 with 2 Axes>"
            ],
            "image/png": "[encoded data removed]"
          },
          "metadata": {}
        }
      ]
    },
    {
      "cell_type": "code",
      "source": [],
      "metadata": {
        "id": "QRGtvDFVVvBU"
      },
      "execution_count": null,
      "outputs": []
    },
    {
      "cell_type": "markdown",
      "source": [
        "# SVC"
      ],
      "metadata": {
        "id": "gIDXZfywGZ8C"
      }
    },
    {
      "cell_type": "code",
      "source": [
        "#Escalamos los datos con normalización\n",
        "stand_scaler = preprocessing.StandardScaler()\n",
        "x_train_norm = stand_scaler.fit_transform(x_train)\n",
        "x_test_norm = stand_scaler.transform(x_test)"
      ],
      "metadata": {
        "id": "6PWhnrTvGcoD"
      },
      "execution_count": null,
      "outputs": []
    },
    {
      "cell_type": "markdown",
      "source": [
        "## SVC - Kernel lineal"
      ],
      "metadata": {
        "id": "1C95-HxlKgJp"
      }
    },
    {
      "cell_type": "markdown",
      "source": [
        "###Importación del modelo"
      ],
      "metadata": {
        "id": "JqidLr0gaXJt"
      }
    },
    {
      "cell_type": "code",
      "source": [
        "# Cargar el modelo desde un archivo Joblib\n",
        "svc_lineal_modelo_importado = joblib.load('modelo_svc_lineal.joblib')"
      ],
      "metadata": {
        "id": "iigqz4YdaXkn"
      },
      "execution_count": null,
      "outputs": []
    },
    {
      "cell_type": "markdown",
      "source": [
        "###Entrenamiento"
      ],
      "metadata": {
        "id": "udPsmRSKdNTJ"
      }
    },
    {
      "cell_type": "code",
      "source": [
        "#Creo un clasificador con kernel lineal y lo entreno sobre los datos escalados min-max\n",
        "svc_lineal = SVC(kernel='linear', C=5)\n",
        "svc_lineal.fit(x_train_norm, y_train)"
      ],
      "metadata": {
        "id": "2XaD-bic1KCD",
        "colab": {
          "base_uri": "https://localhost:8080/",
          "height": 75
        },
        "outputId": "e98138b6-ccac-490c-d6b1-f8f75f68d503"
      },
      "execution_count": null,
      "outputs": [
        {
          "output_type": "execute_result",
          "data": {
            "text/plain": [
              "SVC(C=5, kernel='linear')"
            ],
            "text/html": [
              "<style>#sk-container-id-1 {color: black;background-color: white;}#sk-container-id-1 pre{padding: 0;}#sk-container-id-1 div.sk-toggleable {background-color: white;}#sk-container-id-1 label.sk-toggleable__label {cursor: pointer;display: block;width: 100%;margin-bottom: 0;padding: 0.3em;box-sizing: border-box;text-align: center;}#sk-container-id-1 label.sk-toggleable__label-arrow:before {content: \"▸\";float: left;margin-right: 0.25em;color: #696969;}#sk-container-id-1 label.sk-toggleable__label-arrow:hover:before {color: black;}#sk-container-id-1 div.sk-estimator:hover label.sk-toggleable__label-arrow:before {color: black;}#sk-container-id-1 div.sk-toggleable__content {max-height: 0;max-width: 0;overflow: hidden;text-align: left;background-color: #f0f8ff;}#sk-container-id-1 div.sk-toggleable__content pre {margin: 0.2em;color: black;border-radius: 0.25em;background-color: #f0f8ff;}#sk-container-id-1 input.sk-toggleable__control:checked~div.sk-toggleable__content {max-height: 200px;max-width: 100%;overflow: auto;}#sk-container-id-1 input.sk-toggleable__control:checked~label.sk-toggleable__label-arrow:before {content: \"▾\";}#sk-container-id-1 div.sk-estimator input.sk-toggleable__control:checked~label.sk-toggleable__label {background-color: #d4ebff;}#sk-container-id-1 div.sk-label input.sk-toggleable__control:checked~label.sk-toggleable__label {background-color: #d4ebff;}#sk-container-id-1 input.sk-hidden--visually {border: 0;clip: rect(1px 1px 1px 1px);clip: rect(1px, 1px, 1px, 1px);height: 1px;margin: -1px;overflow: hidden;padding: 0;position: absolute;width: 1px;}#sk-container-id-1 div.sk-estimator {font-family: monospace;background-color: #f0f8ff;border: 1px dotted black;border-radius: 0.25em;box-sizing: border-box;margin-bottom: 0.5em;}#sk-container-id-1 div.sk-estimator:hover {background-color: #d4ebff;}#sk-container-id-1 div.sk-parallel-item::after {content: \"\";width: 100%;border-bottom: 1px solid gray;flex-grow: 1;}#sk-container-id-1 div.sk-label:hover label.sk-toggleable__label {background-color: #d4ebff;}#sk-container-id-1 div.sk-serial::before {content: \"\";position: absolute;border-left: 1px solid gray;box-sizing: border-box;top: 0;bottom: 0;left: 50%;z-index: 0;}#sk-container-id-1 div.sk-serial {display: flex;flex-direction: column;align-items: center;background-color: white;padding-right: 0.2em;padding-left: 0.2em;position: relative;}#sk-container-id-1 div.sk-item {position: relative;z-index: 1;}#sk-container-id-1 div.sk-parallel {display: flex;align-items: stretch;justify-content: center;background-color: white;position: relative;}#sk-container-id-1 div.sk-item::before, #sk-container-id-1 div.sk-parallel-item::before {content: \"\";position: absolute;border-left: 1px solid gray;box-sizing: border-box;top: 0;bottom: 0;left: 50%;z-index: -1;}#sk-container-id-1 div.sk-parallel-item {display: flex;flex-direction: column;z-index: 1;position: relative;background-color: white;}#sk-container-id-1 div.sk-parallel-item:first-child::after {align-self: flex-end;width: 50%;}#sk-container-id-1 div.sk-parallel-item:last-child::after {align-self: flex-start;width: 50%;}#sk-container-id-1 div.sk-parallel-item:only-child::after {width: 0;}#sk-container-id-1 div.sk-dashed-wrapped {border: 1px dashed gray;margin: 0 0.4em 0.5em 0.4em;box-sizing: border-box;padding-bottom: 0.4em;background-color: white;}#sk-container-id-1 div.sk-label label {font-family: monospace;font-weight: bold;display: inline-block;line-height: 1.2em;}#sk-container-id-1 div.sk-label-container {text-align: center;}#sk-container-id-1 div.sk-container {/* jupyter's `normalize.less` sets `[hidden] { display: none; }` but bootstrap.min.css set `[hidden] { display: none !important; }` so we also need the `!important` here to be able to override the default hidden behavior on the sphinx rendered scikit-learn.org. See: https://github.com/scikit-learn/scikit-learn/issues/21755 */display: inline-block !important;position: relative;}#sk-container-id-1 div.sk-text-repr-fallback {display: none;}</style><div id=\"sk-container-id-1\" class=\"sk-top-container\"><div class=\"sk-text-repr-fallback\"><pre>SVC(C=5, kernel=&#x27;linear&#x27;)</pre><b>In a Jupyter environment, please rerun this cell to show the HTML representation or trust the notebook. <br />On GitHub, the HTML representation is unable to render, please try loading this page with nbviewer.org.</b></div><div class=\"sk-container\" hidden><div class=\"sk-item\"><div class=\"sk-estimator sk-toggleable\"><input class=\"sk-toggleable__control sk-hidden--visually\" id=\"sk-estimator-id-1\" type=\"checkbox\" checked><label for=\"sk-estimator-id-1\" class=\"sk-toggleable__label sk-toggleable__label-arrow\">SVC</label><div class=\"sk-toggleable__content\"><pre>SVC(C=5, kernel=&#x27;linear&#x27;)</pre></div></div></div></div></div>"
            ]
          },
          "metadata": {},
          "execution_count": 10
        }
      ]
    },
    {
      "cell_type": "markdown",
      "source": [
        "### Predicción"
      ],
      "metadata": {
        "id": "wlh4jn3jBRnt"
      }
    },
    {
      "cell_type": "code",
      "source": [
        "#Hago la predicción y calculo las métricas\n",
        "y_pred_lin = svc_lineal_modelo_importado.predict(x_test_norm)"
      ],
      "metadata": {
        "id": "pT9P_euz35c6"
      },
      "execution_count": null,
      "outputs": []
    },
    {
      "cell_type": "markdown",
      "metadata": {
        "id": "2AoTnPkxPs6j"
      },
      "source": [
        "### Métricas"
      ]
    },
    {
      "cell_type": "code",
      "execution_count": null,
      "metadata": {
        "colab": {
          "base_uri": "https://localhost:8080/"
        },
        "id": "gIBKhRuoPs6j",
        "outputId": "af0ca70b-e0b3-49e3-91d7-460eeb07a33b"
      },
      "outputs": [
        {
          "output_type": "stream",
          "name": "stdout",
          "text": [
            "Accuracy:  0.8193280796350062\n",
            "Recall:  0.8377931945820944\n",
            "Precision:  0.8232429800357084\n",
            "f1 score:  0.8091895341416719\n"
          ]
        }
      ],
      "source": [
        "#Calculo las métricas en el conjunto de evaluación\n",
        "print(\"Accuracy: \", accuracy_score(y_test, y_pred_lin))\n",
        "print(\"Recall: \", recall_score(y_test, y_pred_lin))\n",
        "print(\"Precision: \", f1_score(y_test, y_pred_lin))\n",
        "print(\"f1 score: \", precision_score(y_test, y_pred_lin))"
      ]
    },
    {
      "cell_type": "markdown",
      "source": [
        "### Matriz de confusión"
      ],
      "metadata": {
        "id": "L8ssiEbhPs6k"
      }
    },
    {
      "cell_type": "code",
      "source": [
        "#Matriz de Confusión\n",
        "cm = confusion_matrix(y_test, y_pred_lin)\n",
        "sns.heatmap(cm, cmap='Blues',annot=True,fmt='g')\n",
        "plt.xlabel('Predicted')\n",
        "plt.ylabel('True')"
      ],
      "metadata": {
        "colab": {
          "base_uri": "https://localhost:8080/",
          "height": 467
        },
        "outputId": "2e07e156-ac1f-4a2f-ff8d-8dbf084722de",
        "id": "5La9jtvQPs6k"
      },
      "execution_count": null,
      "outputs": [
        {
          "output_type": "execute_result",
          "data": {
            "text/plain": [
              "Text(50.722222222222214, 0.5, 'True')"
            ]
          },
          "metadata": {},
          "execution_count": 17
        },
        {
          "output_type": "display_data",
          "data": {
            "text/plain": [
              "<Figure size 640x480 with 2 Axes>"
            ],
            "image/png": "[encoded data removed]"
          },
          "metadata": {}
        }
      ]
    },
    {
      "cell_type": "code",
      "source": [
        "#Creo un clasificador con kernel polinomico y lo entreno sobre los datos escalados min-max\n",
        "svc_poli = SVC(kernel='poly', C=5)\n",
        "svc_poli.fit(x_train_norm, y_train)\n",
        "\n",
        "#Hago la predicción y calculo las métricas\n",
        "y_pred_pol=svc_poli.predict(x_test_norm)"
      ],
      "metadata": {
        "id": "xij0U69O3HO-"
      },
      "execution_count": null,
      "outputs": []
    },
    {
      "cell_type": "markdown",
      "source": [
        "## SVC - Kernel radial"
      ],
      "metadata": {
        "id": "7oYcMY_NKvSx"
      }
    },
    {
      "cell_type": "markdown",
      "source": [
        "###Importación del modelo"
      ],
      "metadata": {
        "id": "6Q9WRj8CWZHR"
      }
    },
    {
      "cell_type": "code",
      "source": [
        "# Cargar el modelo desde un archivo Joblib\n",
        "svc_radial_modelo_importado = joblib.load('modelo_svc_radial.joblib')"
      ],
      "metadata": {
        "id": "pxH0RQZrWZHS"
      },
      "execution_count": null,
      "outputs": []
    },
    {
      "cell_type": "code",
      "source": [
        "#Creo un clasificador con kernel radial.\n",
        "svc_radial = SVC(kernel='rbf', C=5, gamma=0.1)\n",
        "svc_radial.fit(x_train_norm, y_train)"
      ],
      "metadata": {
        "id": "OchSoy2f0ENC"
      },
      "execution_count": null,
      "outputs": []
    },
    {
      "cell_type": "markdown",
      "source": [
        "###Predicción"
      ],
      "metadata": {
        "id": "oolg21LKW3si"
      }
    },
    {
      "cell_type": "code",
      "source": [
        "#Hago la predicción y calculo las métricas\n",
        "y_pred_rad=svc_radial_modelo_importado.predict(x_test_norm)"
      ],
      "metadata": {
        "id": "jibW7OfgW1Xe"
      },
      "execution_count": null,
      "outputs": []
    },
    {
      "cell_type": "markdown",
      "metadata": {
        "id": "35t47ipQP_ZS"
      },
      "source": [
        "### Métricas"
      ]
    },
    {
      "cell_type": "code",
      "execution_count": null,
      "metadata": {
        "id": "o1HbSO9vP_ZS",
        "colab": {
          "base_uri": "https://localhost:8080/"
        },
        "outputId": "7c602b66-9a6c-45d3-98b3-9162821ab924"
      },
      "outputs": [
        {
          "output_type": "stream",
          "name": "stdout",
          "text": [
            "Accuracy:  0.8389879717959353\n",
            "Recall:  0.8442352163858606\n",
            "Precision:  0.8404176601167475\n",
            "f1 score:  0.8366344737272876\n"
          ]
        }
      ],
      "source": [
        "#Calculo las métricas en el conjunto de evaluación\n",
        "print(\"Accuracy: \", accuracy_score(y_test, y_pred_rad))\n",
        "print(\"Recall: \", recall_score(y_test, y_pred_rad))\n",
        "print(\"Precision: \", f1_score(y_test, y_pred_rad))\n",
        "print(\"f1 score: \", precision_score(y_test, y_pred_rad))"
      ]
    },
    {
      "cell_type": "markdown",
      "source": [
        "### Matriz de confusión"
      ],
      "metadata": {
        "id": "TD0TfNueP_ZT"
      }
    },
    {
      "cell_type": "code",
      "source": [
        "#Matriz de Confusión\n",
        "cm = confusion_matrix(y_test, y_pred_rad)\n",
        "sns.heatmap(cm, cmap='Blues',annot=True,fmt='g')\n",
        "plt.xlabel('Predicted')\n",
        "plt.ylabel('True')"
      ],
      "metadata": {
        "colab": {
          "base_uri": "https://localhost:8080/",
          "height": 467
        },
        "outputId": "b27f1085-483c-4321-93ba-8db7620000fc",
        "id": "Uk_lqqyjP_ZT"
      },
      "execution_count": null,
      "outputs": [
        {
          "output_type": "execute_result",
          "data": {
            "text/plain": [
              "Text(50.722222222222214, 0.5, 'True')"
            ]
          },
          "metadata": {},
          "execution_count": 21
        },
        {
          "output_type": "display_data",
          "data": {
            "text/plain": [
              "<Figure size 640x480 with 2 Axes>"
            ],
            "image/png": "[encoded data removed]"
          },
          "metadata": {}
        }
      ]
    },
    {
      "cell_type": "markdown",
      "source": [
        "# Ensambles"
      ],
      "metadata": {
        "id": "-I3BnSdIvBNN"
      }
    },
    {
      "cell_type": "markdown",
      "source": [
        "## Primera opción (RandomForestClassifier y RandomSearchCV)"
      ],
      "metadata": {
        "id": "fbwegq32oedh"
      }
    },
    {
      "cell_type": "markdown",
      "source": [
        "###Importación del modelo"
      ],
      "metadata": {
        "id": "puJHgZimXKST"
      }
    },
    {
      "cell_type": "code",
      "source": [
        "# Cargar el modelo desde un archivo Joblib\n",
        "rf_modelo_importado = joblib.load('modelo_random_forest.joblib')"
      ],
      "metadata": {
        "id": "mWCEb8P0XKST"
      },
      "execution_count": null,
      "outputs": []
    },
    {
      "cell_type": "markdown",
      "source": [
        "### Busqueda de los mejores hiperparámetros"
      ],
      "metadata": {
        "id": "AVTsDp8sqRPn"
      }
    },
    {
      "cell_type": "code",
      "source": [
        "#Cantidad de combinaciones que quiero porbar\n",
        "n = 5\n",
        "\n",
        "#Conjunto de parámetros que quiero usar\n",
        "params_grid = {\n",
        "    \"criterion\": [\"gini\", \"entropy\"],\n",
        "    \"min_samples_leaf\": range(30, 35),\n",
        "    \"min_samples_split\":  range(50, 55),\n",
        "    \"ccp_alpha\": np.linspace(0, 0.05, n),\n",
        "    \"max_depth\": range(35, 40),\n",
        "    \"n_estimators\": range(199, 350)\n",
        "}"
      ],
      "metadata": {
        "id": "e5ZQtbFjo6uD"
      },
      "execution_count": null,
      "outputs": []
    },
    {
      "cell_type": "code",
      "source": [
        "#KFold Estratificado\n",
        "\n",
        "#Cantidad de splits para el Cross Validation\n",
        "folds = 5\n",
        "\n",
        "kfoldcv = StratifiedKFold(n_splits=folds)"
      ],
      "metadata": {
        "id": "mFP4P3qeo6uE"
      },
      "execution_count": null,
      "outputs": []
    },
    {
      "cell_type": "code",
      "source": [
        "#Clasificador\n",
        "base_tree = RandomForestClassifier()"
      ],
      "metadata": {
        "id": "QGxUzfdno6uF"
      },
      "execution_count": null,
      "outputs": []
    },
    {
      "cell_type": "code",
      "execution_count": null,
      "metadata": {
        "id": "hC3HTMgro6uF"
      },
      "outputs": [],
      "source": [
        "#Random Search Cross Validation\n",
        "rand_random_forest = RandomizedSearchCV(estimator = base_tree,\n",
        "                              param_distributions = params_grid,\n",
        "                              scoring = \"f1\",\n",
        "                              cv = kfoldcv,\n",
        "                              n_iter = n)"
      ]
    },
    {
      "cell_type": "code",
      "source": [
        "#Busco los hiperparamtros que optimizan F1 Score\n",
        "rand_random_forest.fit(x_train, y_train)"
      ],
      "metadata": {
        "id": "jSziBFVgo6uG"
      },
      "execution_count": null,
      "outputs": []
    },
    {
      "cell_type": "code",
      "execution_count": null,
      "metadata": {
        "id": "sTRPozj7o6uH"
      },
      "outputs": [],
      "source": [
        "#Mejores hiperparametros del arbol\n",
        "print(rand_random_forest.best_params_)\n",
        "\n",
        "#Mejor métrica\n",
        "print(rand_random_forest.best_score_)"
      ]
    },
    {
      "cell_type": "markdown",
      "metadata": {
        "id": "l_YbrbFapXde"
      },
      "source": [
        "### Árbol con mejores parámetros"
      ]
    },
    {
      "cell_type": "code",
      "source": [
        "#Creo el árbol con los mejores hiperparámetros\n",
        "random_forest = rand_random_forest.best_estimator_"
      ],
      "metadata": {
        "id": "fQuKvexgpXde"
      },
      "execution_count": null,
      "outputs": []
    },
    {
      "cell_type": "markdown",
      "metadata": {
        "id": "E7_b-wYLpXdf"
      },
      "source": [
        "### Predicción"
      ]
    },
    {
      "cell_type": "code",
      "execution_count": null,
      "metadata": {
        "id": "vGqjTFi1pXdf"
      },
      "outputs": [],
      "source": [
        "y_pred_random_forest = rf_modelo_importado.predict(x_test)"
      ]
    },
    {
      "cell_type": "markdown",
      "metadata": {
        "id": "LauTya26pXdf"
      },
      "source": [
        "### Métricas"
      ]
    },
    {
      "cell_type": "code",
      "execution_count": null,
      "metadata": {
        "id": "ZqCEgtB5pXdf",
        "colab": {
          "base_uri": "https://localhost:8080/"
        },
        "outputId": "39a76abe-5f55-4b2f-8b9a-e8f8a0a4597a"
      },
      "outputs": [
        {
          "output_type": "stream",
          "name": "stdout",
          "text": [
            "Accuracy:  0.8209871422646204\n",
            "Recall:  0.763627353815659\n",
            "Precision:  0.8107681515257805\n",
            "f1 score:  0.8641121495327103\n"
          ]
        }
      ],
      "source": [
        "#Calculo las métricas en el conjunto de evaluación\n",
        "print(\"Accuracy: \", accuracy_score(y_test, y_pred_random_forest))\n",
        "print(\"Recall: \", recall_score(y_test, y_pred_random_forest))\n",
        "print(\"Precision: \", f1_score(y_test, y_pred_random_forest))\n",
        "print(\"f1 score: \", precision_score(y_test, y_pred_random_forest))"
      ]
    },
    {
      "cell_type": "markdown",
      "metadata": {
        "id": "GmFPnUcMpXdf"
      },
      "source": [
        "### Matriz de confusión"
      ]
    },
    {
      "cell_type": "code",
      "source": [
        "#Matriz de Confusion\n",
        "cm = confusion_matrix(y_test, y_pred_random_forest)"
      ],
      "metadata": {
        "id": "qf606NbrpXdg"
      },
      "execution_count": null,
      "outputs": []
    },
    {
      "cell_type": "code",
      "execution_count": null,
      "metadata": {
        "colab": {
          "base_uri": "https://localhost:8080/",
          "height": 467
        },
        "outputId": "22c19610-a374-40ac-f732-0510a86d2cfb",
        "id": "2FS1XH6KpXdg"
      },
      "outputs": [
        {
          "output_type": "execute_result",
          "data": {
            "text/plain": [
              "Text(50.722222222222214, 0.5, 'True')"
            ]
          },
          "metadata": {},
          "execution_count": 26
        },
        {
          "output_type": "display_data",
          "data": {
            "text/plain": [
              "<Figure size 640x480 with 2 Axes>"
            ],
            "image/png": "[encoded data removed]"
          },
          "metadata": {}
        }
      ],
      "source": [
        "sns.heatmap(cm, cmap='Blues',annot=True,fmt='g')\n",
        "plt.xlabel(\"Predicted\")\n",
        "plt.ylabel(\"True\")"
      ]
    },
    {
      "cell_type": "markdown",
      "source": [
        "## Segunda opción (XGBoost y RandomSearchCV)"
      ],
      "metadata": {
        "id": "5Ul48CKrAxxt"
      }
    },
    {
      "cell_type": "markdown",
      "source": [
        "###Importación del modelo"
      ],
      "metadata": {
        "id": "mOm8jSxNX0Rz"
      }
    },
    {
      "cell_type": "code",
      "source": [
        "# Cargar el modelo desde un archivo Joblib\n",
        "xgb_modelo_importado = joblib.load('modelo_xgb.joblib')"
      ],
      "metadata": {
        "id": "FblRJEMiX0R0"
      },
      "execution_count": null,
      "outputs": []
    },
    {
      "cell_type": "markdown",
      "source": [
        "### Busqueda de los mejores hiperparámetros"
      ],
      "metadata": {
        "id": "TBNXA4U1Rs6n"
      }
    },
    {
      "cell_type": "code",
      "source": [
        "xgb_model = xgb.XGBClassifier()\n",
        "\n",
        "params_grid = {\n",
        "    'n_estimators': range(50, 200, 10),\n",
        "    'max_depth': range(3, 10),\n",
        "    'learning_rate': [0.01, 0.1, 0.2, 0.3, 0.5],\n",
        "    'subsample': [0.7, 0.8, 0.9, 1.0],\n",
        "    'colsample_bytree': [0.6, 0.7, 0.8, 0.9, 1.0]\n",
        "}"
      ],
      "metadata": {
        "id": "_U9GIbjrDrAC"
      },
      "execution_count": null,
      "outputs": []
    },
    {
      "cell_type": "code",
      "source": [
        "rand_xgb = RandomizedSearchCV(xgb_model,\n",
        "                              param_distributions=params_grid,\n",
        "                              n_iter=10,\n",
        "                              scoring='f1',\n",
        "                              n_jobs=-1,\n",
        "                              cv=5,\n",
        "                              verbose=1,\n",
        "                              random_state=42)\n",
        "\n",
        "rand_xgb.fit(x_train, y_train)"
      ],
      "metadata": {
        "id": "ydvrDVd-DtZA"
      },
      "execution_count": null,
      "outputs": []
    },
    {
      "cell_type": "code",
      "source": [
        "#Mejores hiperparametros\n",
        "print(rand_xgb.best_params_)\n",
        "\n",
        "#Mejor métrica\n",
        "print(rand_xgb.best_score_)"
      ],
      "metadata": {
        "id": "KkjKI0ewDyWT"
      },
      "execution_count": null,
      "outputs": []
    },
    {
      "cell_type": "markdown",
      "source": [
        "### XGB con mejores parámetros"
      ],
      "metadata": {
        "id": "YIFKkaLJPmHp"
      }
    },
    {
      "cell_type": "code",
      "source": [
        "#Mejor estimador\n",
        "xgb_mejores_parametros = rand_xgb.best_estimator_"
      ],
      "metadata": {
        "id": "tCrAjng5PmHp"
      },
      "execution_count": null,
      "outputs": []
    },
    {
      "cell_type": "markdown",
      "source": [
        "### Predicción"
      ],
      "metadata": {
        "id": "xnPTIflAPmHq"
      }
    },
    {
      "cell_type": "code",
      "source": [
        "#Predicción con mejor estimador\n",
        "y_pred_xgb = xgb_modelo_importado.predict(x_test)"
      ],
      "metadata": {
        "id": "SXaWF_u7PmHq"
      },
      "execution_count": null,
      "outputs": []
    },
    {
      "cell_type": "markdown",
      "metadata": {
        "id": "OmGw5OXXQT2l"
      },
      "source": [
        "### Métricas"
      ]
    },
    {
      "cell_type": "code",
      "execution_count": null,
      "metadata": {
        "id": "KE8zsOCqQT2m",
        "colab": {
          "base_uri": "https://localhost:8080/"
        },
        "outputId": "a0ad8dd0-7dd0-4c3a-bdcc-59f658e335b2"
      },
      "outputs": [
        {
          "output_type": "stream",
          "name": "stdout",
          "text": [
            "Accuracy:  0.8611364579012858\n",
            "Recall:  0.8685166831846713\n",
            "Precision:  0.8626743232157507\n",
            "f1 score:  0.8569100391134289\n"
          ]
        }
      ],
      "source": [
        "#Calculo las métricas en el conjunto de evaluación\n",
        "print(\"Accuracy: \", accuracy_score(y_test, y_pred_xgb))\n",
        "print(\"Recall: \", recall_score(y_test, y_pred_xgb))\n",
        "print(\"Precision: \", f1_score(y_test, y_pred_xgb))\n",
        "print(\"f1 score: \", precision_score(y_test, y_pred_xgb))"
      ]
    },
    {
      "cell_type": "markdown",
      "source": [
        "### Matriz de confusión"
      ],
      "metadata": {
        "id": "hnvM3vR1QT2n"
      }
    },
    {
      "cell_type": "code",
      "source": [
        "#Matriz de Confusión\n",
        "cm = confusion_matrix(y_test, y_pred_xgb)\n",
        "sns.heatmap(cm, cmap='Blues',annot=True,fmt='g')\n",
        "plt.xlabel('Predicted')\n",
        "plt.ylabel('True')"
      ],
      "metadata": {
        "id": "fxD1H2slQT2n",
        "colab": {
          "base_uri": "https://localhost:8080/",
          "height": 467
        },
        "outputId": "1dd1c1da-05eb-4b71-c752-db7d58d08af2"
      },
      "execution_count": null,
      "outputs": [
        {
          "output_type": "execute_result",
          "data": {
            "text/plain": [
              "Text(50.722222222222214, 0.5, 'True')"
            ]
          },
          "metadata": {},
          "execution_count": 31
        },
        {
          "output_type": "display_data",
          "data": {
            "text/plain": [
              "<Figure size 640x480 with 2 Axes>"
            ],
            "image/png": "[encoded data removed]"
          },
          "metadata": {}
        }
      ]
    },
    {
      "cell_type": "markdown",
      "source": [
        "# Ensambles híbridos"
      ],
      "metadata": {
        "id": "CIdB3lDzSWqo"
      }
    },
    {
      "cell_type": "markdown",
      "source": [
        "## Voting"
      ],
      "metadata": {
        "id": "DUNEwxJlSgoy"
      }
    },
    {
      "cell_type": "code",
      "source": [
        "#Creamos clasificadores\n",
        "xgb_vot = xgb_modelo_importado\n",
        "rnd_fst_vot = rf_modelo_importado\n",
        "knn_vot = knn_modelo_importado\n",
        "\n",
        "#Creamos ensamble de Votación\n",
        "voting = VotingClassifier(estimators = [('xgb', xgb_vot), ('rnd_fst', rnd_fst_vot), ('knn', knn_vot)],\n",
        "                          voting = 'hard')\n",
        "\n",
        "#Entrenamos el ensamble\n",
        "voting.fit(x_train, y_train)"
      ],
      "metadata": {
        "id": "HJMljU0ohMxH",
        "colab": {
          "base_uri": "https://localhost:8080/",
          "height": 110
        },
        "outputId": "ae0d13c4-4869-452a-9d3c-44f43faf72a3"
      },
      "execution_count": null,
      "outputs": [
        {
          "output_type": "execute_result",
          "data": {
            "text/plain": [
              "VotingClassifier(estimators=[('xgb',\n",
              "                              XGBClassifier(base_score=None, booster=None,\n",
              "                                            callbacks=None,\n",
              "                                            colsample_bylevel=None,\n",
              "                                            colsample_bynode=None,\n",
              "                                            colsample_bytree=0.8, device=None,\n",
              "                                            early_stopping_rounds=None,\n",
              "                                            enable_categorical=False,\n",
              "                                            eval_metric=None,\n",
              "                                            feature_types=None, gamma=None,\n",
              "                                            grow_policy=None,\n",
              "                                            importance_type=None,\n",
              "                                            interaction_constraints=None,\n",
              "                                            learning_rat...\n",
              "                                            min_child_weight=None, missing=nan,\n",
              "                                            monotone_constraints=None,\n",
              "                                            multi_strategy=None,\n",
              "                                            n_estimators=170, n_jobs=None,\n",
              "                                            num_parallel_tree=None,\n",
              "                                            random_state=None, ...)),\n",
              "                             ('rnd_fst',\n",
              "                              RandomForestClassifier(max_depth=35,\n",
              "                                                     min_samples_leaf=31,\n",
              "                                                     min_samples_split=53,\n",
              "                                                     n_estimators=269)),\n",
              "                             ('knn',\n",
              "                              KNeighborsClassifier(algorithm='kd_tree',\n",
              "                                                   metric='manhattan',\n",
              "                                                   n_neighbors=14,\n",
              "                                                   weights='distance'))])"
            ],
            "text/html": [
              "<style>#sk-container-id-1 {color: black;background-color: white;}#sk-container-id-1 pre{padding: 0;}#sk-container-id-1 div.sk-toggleable {background-color: white;}#sk-container-id-1 label.sk-toggleable__label {cursor: pointer;display: block;width: 100%;margin-bottom: 0;padding: 0.3em;box-sizing: border-box;text-align: center;}#sk-container-id-1 label.sk-toggleable__label-arrow:before {content: \"▸\";float: left;margin-right: 0.25em;color: #696969;}#sk-container-id-1 label.sk-toggleable__label-arrow:hover:before {color: black;}#sk-container-id-1 div.sk-estimator:hover label.sk-toggleable__label-arrow:before {color: black;}#sk-container-id-1 div.sk-toggleable__content {max-height: 0;max-width: 0;overflow: hidden;text-align: left;background-color: #f0f8ff;}#sk-container-id-1 div.sk-toggleable__content pre {margin: 0.2em;color: black;border-radius: 0.25em;background-color: #f0f8ff;}#sk-container-id-1 input.sk-toggleable__control:checked~div.sk-toggleable__content {max-height: 200px;max-width: 100%;overflow: auto;}#sk-container-id-1 input.sk-toggleable__control:checked~label.sk-toggleable__label-arrow:before {content: \"▾\";}#sk-container-id-1 div.sk-estimator input.sk-toggleable__control:checked~label.sk-toggleable__label {background-color: #d4ebff;}#sk-container-id-1 div.sk-label input.sk-toggleable__control:checked~label.sk-toggleable__label {background-color: #d4ebff;}#sk-container-id-1 input.sk-hidden--visually {border: 0;clip: rect(1px 1px 1px 1px);clip: rect(1px, 1px, 1px, 1px);height: 1px;margin: -1px;overflow: hidden;padding: 0;position: absolute;width: 1px;}#sk-container-id-1 div.sk-estimator {font-family: monospace;background-color: #f0f8ff;border: 1px dotted black;border-radius: 0.25em;box-sizing: border-box;margin-bottom: 0.5em;}#sk-container-id-1 div.sk-estimator:hover {background-color: #d4ebff;}#sk-container-id-1 div.sk-parallel-item::after {content: \"\";width: 100%;border-bottom: 1px solid gray;flex-grow: 1;}#sk-container-id-1 div.sk-label:hover label.sk-toggleable__label {background-color: #d4ebff;}#sk-container-id-1 div.sk-serial::before {content: \"\";position: absolute;border-left: 1px solid gray;box-sizing: border-box;top: 0;bottom: 0;left: 50%;z-index: 0;}#sk-container-id-1 div.sk-serial {display: flex;flex-direction: column;align-items: center;background-color: white;padding-right: 0.2em;padding-left: 0.2em;position: relative;}#sk-container-id-1 div.sk-item {position: relative;z-index: 1;}#sk-container-id-1 div.sk-parallel {display: flex;align-items: stretch;justify-content: center;background-color: white;position: relative;}#sk-container-id-1 div.sk-item::before, #sk-container-id-1 div.sk-parallel-item::before {content: \"\";position: absolute;border-left: 1px solid gray;box-sizing: border-box;top: 0;bottom: 0;left: 50%;z-index: -1;}#sk-container-id-1 div.sk-parallel-item {display: flex;flex-direction: column;z-index: 1;position: relative;background-color: white;}#sk-container-id-1 div.sk-parallel-item:first-child::after {align-self: flex-end;width: 50%;}#sk-container-id-1 div.sk-parallel-item:last-child::after {align-self: flex-start;width: 50%;}#sk-container-id-1 div.sk-parallel-item:only-child::after {width: 0;}#sk-container-id-1 div.sk-dashed-wrapped {border: 1px dashed gray;margin: 0 0.4em 0.5em 0.4em;box-sizing: border-box;padding-bottom: 0.4em;background-color: white;}#sk-container-id-1 div.sk-label label {font-family: monospace;font-weight: bold;display: inline-block;line-height: 1.2em;}#sk-container-id-1 div.sk-label-container {text-align: center;}#sk-container-id-1 div.sk-container {/* jupyter's `normalize.less` sets `[hidden] { display: none; }` but bootstrap.min.css set `[hidden] { display: none !important; }` so we also need the `!important` here to be able to override the default hidden behavior on the sphinx rendered scikit-learn.org. See: https://github.com/scikit-learn/scikit-learn/issues/21755 */display: inline-block !important;position: relative;}#sk-container-id-1 div.sk-text-repr-fallback {display: none;}</style><div id=\"sk-container-id-1\" class=\"sk-top-container\"><div class=\"sk-text-repr-fallback\"><pre>VotingClassifier(estimators=[(&#x27;xgb&#x27;,\n",
              "                              XGBClassifier(base_score=None, booster=None,\n",
              "                                            callbacks=None,\n",
              "                                            colsample_bylevel=None,\n",
              "                                            colsample_bynode=None,\n",
              "                                            colsample_bytree=0.8, device=None,\n",
              "                                            early_stopping_rounds=None,\n",
              "                                            enable_categorical=False,\n",
              "                                            eval_metric=None,\n",
              "                                            feature_types=None, gamma=None,\n",
              "                                            grow_policy=None,\n",
              "                                            importance_type=None,\n",
              "                                            interaction_constraints=None,\n",
              "                                            learning_rat...\n",
              "                                            min_child_weight=None, missing=nan,\n",
              "                                            monotone_constraints=None,\n",
              "                                            multi_strategy=None,\n",
              "                                            n_estimators=170, n_jobs=None,\n",
              "                                            num_parallel_tree=None,\n",
              "                                            random_state=None, ...)),\n",
              "                             (&#x27;rnd_fst&#x27;,\n",
              "                              RandomForestClassifier(max_depth=35,\n",
              "                                                     min_samples_leaf=31,\n",
              "                                                     min_samples_split=53,\n",
              "                                                     n_estimators=269)),\n",
              "                             (&#x27;knn&#x27;,\n",
              "                              KNeighborsClassifier(algorithm=&#x27;kd_tree&#x27;,\n",
              "                                                   metric=&#x27;manhattan&#x27;,\n",
              "                                                   n_neighbors=14,\n",
              "                                                   weights=&#x27;distance&#x27;))])</pre><b>In a Jupyter environment, please rerun this cell to show the HTML representation or trust the notebook. <br />On GitHub, the HTML representation is unable to render, please try loading this page with nbviewer.org.</b></div><div class=\"sk-container\" hidden><div class=\"sk-item sk-dashed-wrapped\"><div class=\"sk-label-container\"><div class=\"sk-label sk-toggleable\"><input class=\"sk-toggleable__control sk-hidden--visually\" id=\"sk-estimator-id-1\" type=\"checkbox\" ><label for=\"sk-estimator-id-1\" class=\"sk-toggleable__label sk-toggleable__label-arrow\">VotingClassifier</label><div class=\"sk-toggleable__content\"><pre>VotingClassifier(estimators=[(&#x27;xgb&#x27;,\n",
              "                              XGBClassifier(base_score=None, booster=None,\n",
              "                                            callbacks=None,\n",
              "                                            colsample_bylevel=None,\n",
              "                                            colsample_bynode=None,\n",
              "                                            colsample_bytree=0.8, device=None,\n",
              "                                            early_stopping_rounds=None,\n",
              "                                            enable_categorical=False,\n",
              "                                            eval_metric=None,\n",
              "                                            feature_types=None, gamma=None,\n",
              "                                            grow_policy=None,\n",
              "                                            importance_type=None,\n",
              "                                            interaction_constraints=None,\n",
              "                                            learning_rat...\n",
              "                                            min_child_weight=None, missing=nan,\n",
              "                                            monotone_constraints=None,\n",
              "                                            multi_strategy=None,\n",
              "                                            n_estimators=170, n_jobs=None,\n",
              "                                            num_parallel_tree=None,\n",
              "                                            random_state=None, ...)),\n",
              "                             (&#x27;rnd_fst&#x27;,\n",
              "                              RandomForestClassifier(max_depth=35,\n",
              "                                                     min_samples_leaf=31,\n",
              "                                                     min_samples_split=53,\n",
              "                                                     n_estimators=269)),\n",
              "                             (&#x27;knn&#x27;,\n",
              "                              KNeighborsClassifier(algorithm=&#x27;kd_tree&#x27;,\n",
              "                                                   metric=&#x27;manhattan&#x27;,\n",
              "                                                   n_neighbors=14,\n",
              "                                                   weights=&#x27;distance&#x27;))])</pre></div></div></div><div class=\"sk-parallel\"><div class=\"sk-parallel-item\"><div class=\"sk-item\"><div class=\"sk-label-container\"><div class=\"sk-label sk-toggleable\"><label>xgb</label></div></div><div class=\"sk-serial\"><div class=\"sk-item\"><div class=\"sk-estimator sk-toggleable\"><input class=\"sk-toggleable__control sk-hidden--visually\" id=\"sk-estimator-id-2\" type=\"checkbox\" ><label for=\"sk-estimator-id-2\" class=\"sk-toggleable__label sk-toggleable__label-arrow\">XGBClassifier</label><div class=\"sk-toggleable__content\"><pre>XGBClassifier(base_score=None, booster=None, callbacks=None,\n",
              "              colsample_bylevel=None, colsample_bynode=None,\n",
              "              colsample_bytree=0.8, device=None, early_stopping_rounds=None,\n",
              "              enable_categorical=False, eval_metric=None, feature_types=None,\n",
              "              gamma=None, grow_policy=None, importance_type=None,\n",
              "              interaction_constraints=None, learning_rate=0.2, max_bin=None,\n",
              "              max_cat_threshold=None, max_cat_to_onehot=None,\n",
              "              max_delta_step=None, max_depth=8, max_leaves=None,\n",
              "              min_child_weight=None, missing=nan, monotone_constraints=None,\n",
              "              multi_strategy=None, n_estimators=170, n_jobs=None,\n",
              "              num_parallel_tree=None, random_state=None, ...)</pre></div></div></div></div></div></div><div class=\"sk-parallel-item\"><div class=\"sk-item\"><div class=\"sk-label-container\"><div class=\"sk-label sk-toggleable\"><label>rnd_fst</label></div></div><div class=\"sk-serial\"><div class=\"sk-item\"><div class=\"sk-estimator sk-toggleable\"><input class=\"sk-toggleable__control sk-hidden--visually\" id=\"sk-estimator-id-3\" type=\"checkbox\" ><label for=\"sk-estimator-id-3\" class=\"sk-toggleable__label sk-toggleable__label-arrow\">RandomForestClassifier</label><div class=\"sk-toggleable__content\"><pre>RandomForestClassifier(max_depth=35, min_samples_leaf=31, min_samples_split=53,\n",
              "                       n_estimators=269)</pre></div></div></div></div></div></div><div class=\"sk-parallel-item\"><div class=\"sk-item\"><div class=\"sk-label-container\"><div class=\"sk-label sk-toggleable\"><label>knn</label></div></div><div class=\"sk-serial\"><div class=\"sk-item\"><div class=\"sk-estimator sk-toggleable\"><input class=\"sk-toggleable__control sk-hidden--visually\" id=\"sk-estimator-id-4\" type=\"checkbox\" ><label for=\"sk-estimator-id-4\" class=\"sk-toggleable__label sk-toggleable__label-arrow\">KNeighborsClassifier</label><div class=\"sk-toggleable__content\"><pre>KNeighborsClassifier(algorithm=&#x27;kd_tree&#x27;, metric=&#x27;manhattan&#x27;, n_neighbors=14,\n",
              "                     weights=&#x27;distance&#x27;)</pre></div></div></div></div></div></div></div></div></div></div>"
            ]
          },
          "metadata": {},
          "execution_count": 15
        }
      ]
    },
    {
      "cell_type": "markdown",
      "metadata": {
        "id": "6Jix1uwQVQCW"
      },
      "source": [
        "### Predicción"
      ]
    },
    {
      "cell_type": "code",
      "execution_count": null,
      "metadata": {
        "id": "jXG19jnRVQCW"
      },
      "outputs": [],
      "source": [
        "y_pred_vot = voting.predict(x_test)"
      ]
    },
    {
      "cell_type": "markdown",
      "metadata": {
        "id": "rZ4HRSvlVQCX"
      },
      "source": [
        "### Métricas"
      ]
    },
    {
      "cell_type": "code",
      "execution_count": null,
      "metadata": {
        "id": "pbBY52NBVQCX",
        "colab": {
          "base_uri": "https://localhost:8080/"
        },
        "outputId": "45260e8b-59a1-4c52-87d3-eee97cea70d3"
      },
      "outputs": [
        {
          "output_type": "stream",
          "name": "stdout",
          "text": [
            "Accuracy:  0.8543343011198673\n",
            "Recall:  0.8412619755533531\n",
            "Precision:  0.8529559537765868\n",
            "f1 score:  0.8649796195652174\n"
          ]
        }
      ],
      "source": [
        "#Calculo las métricas en el conjunto de evaluación\n",
        "print(\"Accuracy: \", accuracy_score(y_test, y_pred_vot))\n",
        "print(\"Recall: \", recall_score(y_test, y_pred_vot))\n",
        "print(\"Precision: \", f1_score(y_test, y_pred_vot))\n",
        "print(\"f1 score: \", precision_score(y_test, y_pred_vot))"
      ]
    },
    {
      "cell_type": "markdown",
      "metadata": {
        "id": "2LrKF8dWVQCX"
      },
      "source": [
        "### Matriz de confusión"
      ]
    },
    {
      "cell_type": "code",
      "source": [
        "#Matriz de Confusion\n",
        "cm = confusion_matrix(y_test, y_pred_vot)"
      ],
      "metadata": {
        "id": "6uXrc568VQCX"
      },
      "execution_count": null,
      "outputs": []
    },
    {
      "cell_type": "code",
      "execution_count": null,
      "metadata": {
        "colab": {
          "base_uri": "https://localhost:8080/",
          "height": 467
        },
        "outputId": "0d73e268-8c99-423b-e423-3d224e52467b",
        "id": "ibBZV0yYVQCX"
      },
      "outputs": [
        {
          "output_type": "execute_result",
          "data": {
            "text/plain": [
              "Text(50.722222222222214, 0.5, 'True')"
            ]
          },
          "metadata": {},
          "execution_count": 55
        },
        {
          "output_type": "display_data",
          "data": {
            "text/plain": [
              "<Figure size 640x480 with 2 Axes>"
            ],
            "image/png": "[encoded data removed]"
          },
          "metadata": {}
        }
      ],
      "source": [
        "sns.heatmap(cm, cmap='Blues',annot=True,fmt='g')\n",
        "plt.xlabel(\"Predicted\")\n",
        "plt.ylabel(\"True\")"
      ]
    },
    {
      "cell_type": "markdown",
      "source": [
        "## Stacking"
      ],
      "metadata": {
        "id": "-X0nbEZfVkPf"
      }
    },
    {
      "cell_type": "code",
      "source": [
        "#Modelos Base\n",
        "base_models = [('rnd_fst_stac', RandomForestClassifier(n_estimators=100)),\n",
        "               ('knn_stac', KNeighborsClassifier(n_neighbors=15))\n",
        "               ]\n",
        "\n",
        "#Meta Modelo\n",
        "meta_model = xgb.XGBClassifier()\n",
        "\n",
        "#Creamos el ensamble Stacking\n",
        "stacking = StackingClassifier(estimators=base_models,\n",
        "                                    final_estimator=meta_model,\n",
        "                                    passthrough=True,\n",
        "                                    cv=5,\n",
        "                                    verbose=2)\n",
        "\n",
        "#Entrenamos el ensamble\n",
        "stacking.fit(x_train,y_train)"
      ],
      "metadata": {
        "id": "smAEAUL-WUAG",
        "colab": {
          "base_uri": "https://localhost:8080/",
          "height": 164
        },
        "outputId": "1bd06551-2701-4789-c0c3-8307f2eb8c42"
      },
      "execution_count": null,
      "outputs": [
        {
          "output_type": "execute_result",
          "data": {
            "text/plain": [
              "StackingClassifier(cv=5,\n",
              "                   estimators=[('rnd_fst_stac', RandomForestClassifier()),\n",
              "                               ('knn_stac',\n",
              "                                KNeighborsClassifier(n_neighbors=15))],\n",
              "                   final_estimator=XGBClassifier(base_score=None, booster=None,\n",
              "                                                 callbacks=None,\n",
              "                                                 colsample_bylevel=None,\n",
              "                                                 colsample_bynode=None,\n",
              "                                                 colsample_bytree=None,\n",
              "                                                 device=None,\n",
              "                                                 early_stopping_rounds=None,\n",
              "                                                 enable_categorical=False,\n",
              "                                                 eval_metric=None...\n",
              "                                                 importance_type=None,\n",
              "                                                 interaction_constraints=None,\n",
              "                                                 learning_rate=None,\n",
              "                                                 max_bin=None,\n",
              "                                                 max_cat_threshold=None,\n",
              "                                                 max_cat_to_onehot=None,\n",
              "                                                 max_delta_step=None,\n",
              "                                                 max_depth=None,\n",
              "                                                 max_leaves=None,\n",
              "                                                 min_child_weight=None,\n",
              "                                                 missing=nan,\n",
              "                                                 monotone_constraints=None,\n",
              "                                                 multi_strategy=None,\n",
              "                                                 n_estimators=None, n_jobs=None,\n",
              "                                                 num_parallel_tree=None,\n",
              "                                                 random_state=None, ...),\n",
              "                   passthrough=True, verbose=2)"
            ],
            "text/html": [
              "<style>#sk-container-id-1 {color: black;background-color: white;}#sk-container-id-1 pre{padding: 0;}#sk-container-id-1 div.sk-toggleable {background-color: white;}#sk-container-id-1 label.sk-toggleable__label {cursor: pointer;display: block;width: 100%;margin-bottom: 0;padding: 0.3em;box-sizing: border-box;text-align: center;}#sk-container-id-1 label.sk-toggleable__label-arrow:before {content: \"▸\";float: left;margin-right: 0.25em;color: #696969;}#sk-container-id-1 label.sk-toggleable__label-arrow:hover:before {color: black;}#sk-container-id-1 div.sk-estimator:hover label.sk-toggleable__label-arrow:before {color: black;}#sk-container-id-1 div.sk-toggleable__content {max-height: 0;max-width: 0;overflow: hidden;text-align: left;background-color: #f0f8ff;}#sk-container-id-1 div.sk-toggleable__content pre {margin: 0.2em;color: black;border-radius: 0.25em;background-color: #f0f8ff;}#sk-container-id-1 input.sk-toggleable__control:checked~div.sk-toggleable__content {max-height: 200px;max-width: 100%;overflow: auto;}#sk-container-id-1 input.sk-toggleable__control:checked~label.sk-toggleable__label-arrow:before {content: \"▾\";}#sk-container-id-1 div.sk-estimator input.sk-toggleable__control:checked~label.sk-toggleable__label {background-color: #d4ebff;}#sk-container-id-1 div.sk-label input.sk-toggleable__control:checked~label.sk-toggleable__label {background-color: #d4ebff;}#sk-container-id-1 input.sk-hidden--visually {border: 0;clip: rect(1px 1px 1px 1px);clip: rect(1px, 1px, 1px, 1px);height: 1px;margin: -1px;overflow: hidden;padding: 0;position: absolute;width: 1px;}#sk-container-id-1 div.sk-estimator {font-family: monospace;background-color: #f0f8ff;border: 1px dotted black;border-radius: 0.25em;box-sizing: border-box;margin-bottom: 0.5em;}#sk-container-id-1 div.sk-estimator:hover {background-color: #d4ebff;}#sk-container-id-1 div.sk-parallel-item::after {content: \"\";width: 100%;border-bottom: 1px solid gray;flex-grow: 1;}#sk-container-id-1 div.sk-label:hover label.sk-toggleable__label {background-color: #d4ebff;}#sk-container-id-1 div.sk-serial::before {content: \"\";position: absolute;border-left: 1px solid gray;box-sizing: border-box;top: 0;bottom: 0;left: 50%;z-index: 0;}#sk-container-id-1 div.sk-serial {display: flex;flex-direction: column;align-items: center;background-color: white;padding-right: 0.2em;padding-left: 0.2em;position: relative;}#sk-container-id-1 div.sk-item {position: relative;z-index: 1;}#sk-container-id-1 div.sk-parallel {display: flex;align-items: stretch;justify-content: center;background-color: white;position: relative;}#sk-container-id-1 div.sk-item::before, #sk-container-id-1 div.sk-parallel-item::before {content: \"\";position: absolute;border-left: 1px solid gray;box-sizing: border-box;top: 0;bottom: 0;left: 50%;z-index: -1;}#sk-container-id-1 div.sk-parallel-item {display: flex;flex-direction: column;z-index: 1;position: relative;background-color: white;}#sk-container-id-1 div.sk-parallel-item:first-child::after {align-self: flex-end;width: 50%;}#sk-container-id-1 div.sk-parallel-item:last-child::after {align-self: flex-start;width: 50%;}#sk-container-id-1 div.sk-parallel-item:only-child::after {width: 0;}#sk-container-id-1 div.sk-dashed-wrapped {border: 1px dashed gray;margin: 0 0.4em 0.5em 0.4em;box-sizing: border-box;padding-bottom: 0.4em;background-color: white;}#sk-container-id-1 div.sk-label label {font-family: monospace;font-weight: bold;display: inline-block;line-height: 1.2em;}#sk-container-id-1 div.sk-label-container {text-align: center;}#sk-container-id-1 div.sk-container {/* jupyter's `normalize.less` sets `[hidden] { display: none; }` but bootstrap.min.css set `[hidden] { display: none !important; }` so we also need the `!important` here to be able to override the default hidden behavior on the sphinx rendered scikit-learn.org. See: https://github.com/scikit-learn/scikit-learn/issues/21755 */display: inline-block !important;position: relative;}#sk-container-id-1 div.sk-text-repr-fallback {display: none;}</style><div id=\"sk-container-id-1\" class=\"sk-top-container\"><div class=\"sk-text-repr-fallback\"><pre>StackingClassifier(cv=5,\n",
              "                   estimators=[(&#x27;rnd_fst_stac&#x27;, RandomForestClassifier()),\n",
              "                               (&#x27;knn_stac&#x27;,\n",
              "                                KNeighborsClassifier(n_neighbors=15))],\n",
              "                   final_estimator=XGBClassifier(base_score=None, booster=None,\n",
              "                                                 callbacks=None,\n",
              "                                                 colsample_bylevel=None,\n",
              "                                                 colsample_bynode=None,\n",
              "                                                 colsample_bytree=None,\n",
              "                                                 device=None,\n",
              "                                                 early_stopping_rounds=None,\n",
              "                                                 enable_categorical=False,\n",
              "                                                 eval_metric=None...\n",
              "                                                 importance_type=None,\n",
              "                                                 interaction_constraints=None,\n",
              "                                                 learning_rate=None,\n",
              "                                                 max_bin=None,\n",
              "                                                 max_cat_threshold=None,\n",
              "                                                 max_cat_to_onehot=None,\n",
              "                                                 max_delta_step=None,\n",
              "                                                 max_depth=None,\n",
              "                                                 max_leaves=None,\n",
              "                                                 min_child_weight=None,\n",
              "                                                 missing=nan,\n",
              "                                                 monotone_constraints=None,\n",
              "                                                 multi_strategy=None,\n",
              "                                                 n_estimators=None, n_jobs=None,\n",
              "                                                 num_parallel_tree=None,\n",
              "                                                 random_state=None, ...),\n",
              "                   passthrough=True, verbose=2)</pre><b>In a Jupyter environment, please rerun this cell to show the HTML representation or trust the notebook. <br />On GitHub, the HTML representation is unable to render, please try loading this page with nbviewer.org.</b></div><div class=\"sk-container\" hidden><div class=\"sk-item sk-dashed-wrapped\"><div class=\"sk-label-container\"><div class=\"sk-label sk-toggleable\"><input class=\"sk-toggleable__control sk-hidden--visually\" id=\"sk-estimator-id-1\" type=\"checkbox\" ><label for=\"sk-estimator-id-1\" class=\"sk-toggleable__label sk-toggleable__label-arrow\">StackingClassifier</label><div class=\"sk-toggleable__content\"><pre>StackingClassifier(cv=5,\n",
              "                   estimators=[(&#x27;rnd_fst_stac&#x27;, RandomForestClassifier()),\n",
              "                               (&#x27;knn_stac&#x27;,\n",
              "                                KNeighborsClassifier(n_neighbors=15))],\n",
              "                   final_estimator=XGBClassifier(base_score=None, booster=None,\n",
              "                                                 callbacks=None,\n",
              "                                                 colsample_bylevel=None,\n",
              "                                                 colsample_bynode=None,\n",
              "                                                 colsample_bytree=None,\n",
              "                                                 device=None,\n",
              "                                                 early_stopping_rounds=None,\n",
              "                                                 enable_categorical=False,\n",
              "                                                 eval_metric=None...\n",
              "                                                 importance_type=None,\n",
              "                                                 interaction_constraints=None,\n",
              "                                                 learning_rate=None,\n",
              "                                                 max_bin=None,\n",
              "                                                 max_cat_threshold=None,\n",
              "                                                 max_cat_to_onehot=None,\n",
              "                                                 max_delta_step=None,\n",
              "                                                 max_depth=None,\n",
              "                                                 max_leaves=None,\n",
              "                                                 min_child_weight=None,\n",
              "                                                 missing=nan,\n",
              "                                                 monotone_constraints=None,\n",
              "                                                 multi_strategy=None,\n",
              "                                                 n_estimators=None, n_jobs=None,\n",
              "                                                 num_parallel_tree=None,\n",
              "                                                 random_state=None, ...),\n",
              "                   passthrough=True, verbose=2)</pre></div></div></div><div class=\"sk-serial\"><div class=\"sk-item\"><div class=\"sk-parallel\"><div class=\"sk-parallel-item\"><div class=\"sk-item\"><div class=\"sk-label-container\"><div class=\"sk-label sk-toggleable\"><label>rnd_fst_stac</label></div></div><div class=\"sk-serial\"><div class=\"sk-item\"><div class=\"sk-estimator sk-toggleable\"><input class=\"sk-toggleable__control sk-hidden--visually\" id=\"sk-estimator-id-2\" type=\"checkbox\" ><label for=\"sk-estimator-id-2\" class=\"sk-toggleable__label sk-toggleable__label-arrow\">RandomForestClassifier</label><div class=\"sk-toggleable__content\"><pre>RandomForestClassifier()</pre></div></div></div></div></div></div><div class=\"sk-parallel-item\"><div class=\"sk-item\"><div class=\"sk-label-container\"><div class=\"sk-label sk-toggleable\"><label>knn_stac</label></div></div><div class=\"sk-serial\"><div class=\"sk-item\"><div class=\"sk-estimator sk-toggleable\"><input class=\"sk-toggleable__control sk-hidden--visually\" id=\"sk-estimator-id-3\" type=\"checkbox\" ><label for=\"sk-estimator-id-3\" class=\"sk-toggleable__label sk-toggleable__label-arrow\">KNeighborsClassifier</label><div class=\"sk-toggleable__content\"><pre>KNeighborsClassifier(n_neighbors=15)</pre></div></div></div></div></div></div></div></div><div class=\"sk-item\"><div class=\"sk-parallel\"><div class=\"sk-parallel-item\"><div class=\"sk-item\"><div class=\"sk-label-container\"><div class=\"sk-label sk-toggleable\"><label>final_estimator</label></div></div><div class=\"sk-serial\"><div class=\"sk-item\"><div class=\"sk-estimator sk-toggleable\"><input class=\"sk-toggleable__control sk-hidden--visually\" id=\"sk-estimator-id-4\" type=\"checkbox\" ><label for=\"sk-estimator-id-4\" class=\"sk-toggleable__label sk-toggleable__label-arrow\">XGBClassifier</label><div class=\"sk-toggleable__content\"><pre>XGBClassifier(base_score=None, booster=None, callbacks=None,\n",
              "              colsample_bylevel=None, colsample_bynode=None,\n",
              "              colsample_bytree=None, device=None, early_stopping_rounds=None,\n",
              "              enable_categorical=False, eval_metric=None, feature_types=None,\n",
              "              gamma=None, grow_policy=None, importance_type=None,\n",
              "              interaction_constraints=None, learning_rate=None, max_bin=None,\n",
              "              max_cat_threshold=None, max_cat_to_onehot=None,\n",
              "              max_delta_step=None, max_depth=None, max_leaves=None,\n",
              "              min_child_weight=None, missing=nan, monotone_constraints=None,\n",
              "              multi_strategy=None, n_estimators=None, n_jobs=None,\n",
              "              num_parallel_tree=None, random_state=None, ...)</pre></div></div></div></div></div></div></div></div></div></div></div></div>"
            ]
          },
          "metadata": {},
          "execution_count": 10
        }
      ]
    },
    {
      "cell_type": "markdown",
      "metadata": {
        "id": "IpZJfeD0XjIo"
      },
      "source": [
        "### Predicción"
      ]
    },
    {
      "cell_type": "code",
      "execution_count": null,
      "metadata": {
        "id": "ufrZuOMHXjIp"
      },
      "outputs": [],
      "source": [
        "y_pred_stac = stacking.predict(x_test)"
      ]
    },
    {
      "cell_type": "markdown",
      "metadata": {
        "id": "JfN_OEWZXjIp"
      },
      "source": [
        "### Métricas"
      ]
    },
    {
      "cell_type": "code",
      "execution_count": null,
      "metadata": {
        "id": "FJdL9i44XjIp",
        "colab": {
          "base_uri": "https://localhost:8080/"
        },
        "outputId": "d76ca7df-02b3-410e-9e44-510cb23fbd32"
      },
      "outputs": [
        {
          "output_type": "stream",
          "name": "stdout",
          "text": [
            "Accuracy:  0.8637909581086686\n",
            "Recall:  0.8688470432771721\n",
            "Precision:  0.8649893109685908\n",
            "f1 score:  0.8611656843483956\n"
          ]
        }
      ],
      "source": [
        "#Calculo las métricas en el conjunto de evaluación\n",
        "print(\"Accuracy: \", accuracy_score(y_test, y_pred_stac))\n",
        "print(\"Recall: \", recall_score(y_test, y_pred_stac))\n",
        "print(\"Precision: \", f1_score(y_test, y_pred_stac))\n",
        "print(\"f1 score: \", precision_score(y_test, y_pred_stac))"
      ]
    },
    {
      "cell_type": "markdown",
      "metadata": {
        "id": "Hj95K3XKXjIp"
      },
      "source": [
        "### Matriz de confusión"
      ]
    },
    {
      "cell_type": "code",
      "source": [
        "#Matriz de Confusion\n",
        "cm = confusion_matrix(y_test, y_pred_stac)"
      ],
      "metadata": {
        "id": "lLSfUli8XjIq"
      },
      "execution_count": null,
      "outputs": []
    },
    {
      "cell_type": "code",
      "execution_count": null,
      "metadata": {
        "colab": {
          "base_uri": "https://localhost:8080/",
          "height": 466
        },
        "outputId": "b0e74cd7-3769-4d80-81d1-668be3d17c07",
        "id": "isjcQGgtXjIq"
      },
      "outputs": [
        {
          "output_type": "execute_result",
          "data": {
            "text/plain": [
              "Text(50.722222222222214, 0.5, 'True')"
            ]
          },
          "metadata": {},
          "execution_count": 14
        },
        {
          "output_type": "display_data",
          "data": {
            "text/plain": [
              "<Figure size 640x480 with 2 Axes>"
            ],
            "image/png": "[encoded data removed]"
          },
          "metadata": {}
        }
      ],
      "source": [
        "sns.heatmap(cm, cmap='Blues',annot=True,fmt='g')\n",
        "plt.xlabel(\"Predicted\")\n",
        "plt.ylabel(\"True\")"
      ]
    },
    {
      "cell_type": "markdown",
      "metadata": {
        "id": "dHknCDGOViS2"
      },
      "source": [
        "# Predicción con DF_HOTEL_TEST"
      ]
    },
    {
      "cell_type": "markdown",
      "metadata": {
        "id": "sY7--h35qCjV"
      },
      "source": [
        "### Carga del DataFrame TEST"
      ]
    },
    {
      "cell_type": "code",
      "execution_count": null,
      "metadata": {
        "id": "6sDi_U3NHY-i"
      },
      "outputs": [],
      "source": [
        "DF_HOTEL_TEST = pd.read_csv((\"./sample_data/hotels_test.csv\"))"
      ]
    },
    {
      "cell_type": "code",
      "execution_count": null,
      "metadata": {
        "id": "IpcJaIxFRdb9"
      },
      "outputs": [],
      "source": [
        "df_hotel_test_copy = DF_HOTEL_TEST.copy()"
      ]
    },
    {
      "cell_type": "markdown",
      "metadata": {
        "id": "PRZKcDVkqJyz"
      },
      "source": [
        "## Preprocesamiento"
      ]
    },
    {
      "cell_type": "markdown",
      "metadata": {
        "id": "sHn3qzrobXVO"
      },
      "source": [
        "### Tratamiento de datos faltantes"
      ]
    },
    {
      "cell_type": "code",
      "execution_count": null,
      "metadata": {
        "id": "cOIjQCCFbXVO"
      },
      "outputs": [],
      "source": [
        "df_hotel_test_copy['agent'] = df_hotel_test_copy['agent'].fillna(\"Agencia no existe\")\n",
        "\n",
        "df_hotel_test_copy['country'] = df_hotel_test_copy['country'].fillna(df_hotel_test_copy['country'].mode()[0])"
      ]
    },
    {
      "cell_type": "markdown",
      "metadata": {
        "id": "a4L_hbiqbXVQ"
      },
      "source": [
        "### Eliminación de variables irrelavantes y/o con datos faltantes"
      ]
    },
    {
      "cell_type": "code",
      "execution_count": null,
      "metadata": {
        "id": "tM_NkVYybXVS"
      },
      "outputs": [],
      "source": [
        "columnas_a_eliminar = [\n",
        "    \"children\", \"arrival_date_year\", \"arrival_date_month\",\n",
        "    \"arrival_date_week_number\", \"arrival_date_day_of_month\",\n",
        "    \"stays_in_weekend_nights\", \"stays_in_week_nights\", \"babies\",\n",
        "    \"meal\", \"adr\", \"id\", \"company\"\n",
        "]\n",
        "df_hotel_test_copy.drop(columnas_a_eliminar, axis=\"columns\", inplace=True)"
      ]
    },
    {
      "cell_type": "markdown",
      "metadata": {
        "id": "NZfTtEpjcCsR"
      },
      "source": [
        "### Transformación de las variables categoricas"
      ]
    },
    {
      "cell_type": "code",
      "execution_count": null,
      "metadata": {
        "id": "q_D9lcVkcCsS"
      },
      "outputs": [],
      "source": [
        "#One Hot encoding\n",
        "df_hotel_test_copy = pd.get_dummies(df_hotel_test_copy, columns=columnas_categoricas, drop_first=True)"
      ]
    },
    {
      "cell_type": "markdown",
      "metadata": {
        "id": "sKxgJDMJnSnk"
      },
      "source": [
        "## Emparejamiento de los dataframes"
      ]
    },
    {
      "cell_type": "code",
      "execution_count": null,
      "metadata": {
        "id": "KQki7xvVQLah"
      },
      "outputs": [],
      "source": [
        "columnas_df_train = set(df_hotel_copy.columns) # Obtiene las columnas del primer DataFrame\n",
        "columnas_df_test = set(df_hotel_test_copy.columns) # Obtiene las columnas del segundo DataFrame"
      ]
    },
    {
      "cell_type": "code",
      "execution_count": null,
      "metadata": {
        "colab": {
          "base_uri": "https://localhost:8080/"
        },
        "id": "K7EUoSXWS_1R",
        "outputId": "6aba6730-9e5d-4064-8fee-69cf952b6e67"
      },
      "outputs": [
        {
          "output_type": "stream",
          "name": "stdout",
          "text": [
            "{'agent_211.0', 'country_MLI', 'country_UZB', 'agent_282.0', 'country_DJI', 'agent_213.0', 'agent_331.0', 'reserved_room_type_P', 'country_NIC', 'agent_510.0', 'country_ATF', 'agent_363.0', 'assigned_room_type_P', 'agent_444.0', 'agent_165.0', 'agent_122.0', 'country_SLV', 'country_TMP', 'agent_358.0', 'agent_397.0', 'agent_337.0', 'reservation_status_date', 'country_DMA', 'agent_367.0', 'country_KHM', 'country_ASM', 'country_SMR', 'country_BFA', 'agent_469.0', 'agent_135.0', 'agent_150.0', 'agent_232.0'}\n"
          ]
        }
      ],
      "source": [
        "columnas_distintas = columnas_df_test.difference(columnas_df_train) # Encuentra las columnas que son distintas entre los DataFrames\n",
        "print(columnas_distintas)"
      ]
    },
    {
      "cell_type": "code",
      "execution_count": null,
      "metadata": {
        "id": "Wtnd9PKrhbxG"
      },
      "outputs": [],
      "source": [
        "df_hotel_test_copy.drop(columnas_distintas, axis=\"columns\", inplace=True) ##DESPUES CAMBIAR SOLUCIÓN"
      ]
    },
    {
      "cell_type": "code",
      "execution_count": null,
      "metadata": {
        "colab": {
          "base_uri": "https://localhost:8080/"
        },
        "id": "M_r3Tbdti2-d",
        "outputId": "2c1d4681-ef14-4d42-c70f-48922afd6c97"
      },
      "outputs": [
        {
          "output_type": "stream",
          "name": "stdout",
          "text": [
            "{'country_SYC', 'country_COM', 'country_ZMB', 'country_ETH', 'agent_430.0', 'country_MNE', 'country_AZE', 'agent_179.0', 'agent_267.0', 'agent_247.0', 'agent_291.0', 'agent_59.0', 'agent_214.0', 'agent_451.0', 'country_SYR', 'market_segment_Undefined', 'agent_404.0', 'agent_431.0', 'agent_414.0', 'country_FRO', 'agent_93.0', 'agent_304.0', 'agent_114.0', 'country_ARM', 'agent_476.0', 'country_MDG', 'country_KNA', 'assigned_room_type_L', 'agent_388.0', 'agent_107.0', 'agent_299.0', 'agent_497.0', 'agent_144.0', 'agent_289.0', 'agent_333.0', 'country_GTM', 'agent_167.0', 'country_SDN', 'agent_301.0', 'country_PYF', 'agent_438.0', 'agent_416.0', 'agent_321.0', 'agent_278.0', 'agent_391.0', 'agent_449.0', 'agent_483.0', 'agent_455.0', 'country_MUS', 'agent_450.0', 'country_FJI', 'country_NAM', 'agent_432.0', 'distribution_channel_Undefined', 'country_BEN', 'country_CIV', 'agent_173.0', 'agent_472.0', 'agent_24.0', 'agent_535.0', 'country_UMI', 'agent_405.0', 'agent_509.0', 'agent_197.0', 'agent_481.0', 'agent_283.0', 'agent_461.0', 'country_HND', 'country_MYT', 'agent_418.0', 'is_canceled', 'agent_270.0', 'agent_427.0', 'country_PAN', 'country_KEN', 'country_VGB', 'country_TGO', 'agent_441.0', 'agent_244.0', 'agent_265.0', 'agent_352.0'}\n"
          ]
        }
      ],
      "source": [
        "columnas_distintas = columnas_df_train.difference(columnas_df_test) # Encuentra las columnas que son distintas entre los DataFrames\n",
        "print(columnas_distintas)"
      ]
    },
    {
      "cell_type": "code",
      "execution_count": null,
      "metadata": {
        "id": "7-YRNEhFlmPP"
      },
      "outputs": [],
      "source": [
        "for columna in columnas_distintas:\n",
        "  df_hotel_test_copy[columna] = 0"
      ]
    },
    {
      "cell_type": "code",
      "execution_count": null,
      "metadata": {
        "id": "g2WDQxIKU3PX"
      },
      "outputs": [],
      "source": [
        "df_hotel_test_copy.drop([\"is_canceled\"], axis=\"columns\", inplace=True)"
      ]
    },
    {
      "cell_type": "markdown",
      "metadata": {
        "id": "bIpFd-MfocnF"
      },
      "source": [
        "### Reordenamiento"
      ]
    },
    {
      "cell_type": "code",
      "execution_count": null,
      "metadata": {
        "id": "uLTp15vITrgh"
      },
      "outputs": [],
      "source": [
        "df_hotel_test_copy.sort_index(axis=\"columns\", inplace=True)"
      ]
    },
    {
      "cell_type": "markdown",
      "metadata": {
        "id": "Siw4GcwKpgUh"
      },
      "source": [
        "## Predicción del conjunto de test y submits para la competencia Kaggle"
      ]
    },
    {
      "cell_type": "code",
      "execution_count": null,
      "metadata": {
        "colab": {
          "base_uri": "https://localhost:8080/"
        },
        "id": "IJplRid9eT1o",
        "outputId": "6bc093e9-5f59-425f-a5f0-0409bcb96037"
      },
      "outputs": [
        {
          "output_type": "stream",
          "name": "stdout",
          "text": [
            "[1 1 0 ... 1 1 0]\n"
          ]
        }
      ],
      "source": [
        "test_pred = stacking.predict(df_hotel_test_copy)\n",
        "print(test_pred)"
      ]
    },
    {
      "cell_type": "markdown",
      "metadata": {
        "id": "CvcUNPZUp3Di"
      },
      "source": [
        "### Resultado"
      ]
    },
    {
      "cell_type": "code",
      "execution_count": null,
      "metadata": {
        "id": "LObnlSF_Xnuc"
      },
      "outputs": [],
      "source": [
        "df_resultado = pd.DataFrame(\n",
        "    {\"id\": DF_HOTEL_TEST[\"id\"],\n",
        "    \"is_canceled\": test_pred}\n",
        ")"
      ]
    },
    {
      "cell_type": "code",
      "execution_count": null,
      "metadata": {
        "colab": {
          "base_uri": "https://localhost:8080/",
          "height": 206
        },
        "id": "TGya6HtWVCZx",
        "outputId": "e9eed159-f5e0-45cd-8ced-f673342d461e"
      },
      "outputs": [
        {
          "output_type": "execute_result",
          "data": {
            "text/plain": [
              "                                     id  is_canceled\n",
              "0  e6d0d58a-ab96-44d3-b28f-85df1cc15f1e            1\n",
              "1  aba9aac2-4495-4645-a60e-90328713c999            1\n",
              "2  b345b5dc-c804-4d77-a39f-1f4e65d1f1ad            0\n",
              "3  ce1b400e-afa1-4946-bdff-004b859eb61c            1\n",
              "4  c4fbec0d-8e2e-4db2-9d4f-a6ccb9f51214            1"
            ],
            "text/html": [
              "\n",
              "  <div id=\"df-013e06be-d433-4cc6-b93e-7633f49a3a95\" class=\"colab-df-container\">\n",
              "    <div>\n",
              "<style scoped>\n",
              "    .dataframe tbody tr th:only-of-type {\n",
              "        vertical-align: middle;\n",
              "    }\n",
              "\n",
              "    .dataframe tbody tr th {\n",
              "        vertical-align: top;\n",
              "    }\n",
              "\n",
              "    .dataframe thead th {\n",
              "        text-align: right;\n",
              "    }\n",
              "</style>\n",
              "<table border=\"1\" class=\"dataframe\">\n",
              "  <thead>\n",
              "    <tr style=\"text-align: right;\">\n",
              "      <th></th>\n",
              "      <th>id</th>\n",
              "      <th>is_canceled</th>\n",
              "    </tr>\n",
              "  </thead>\n",
              "  <tbody>\n",
              "    <tr>\n",
              "      <th>0</th>\n",
              "      <td>e6d0d58a-ab96-44d3-b28f-85df1cc15f1e</td>\n",
              "      <td>1</td>\n",
              "    </tr>\n",
              "    <tr>\n",
              "      <th>1</th>\n",
              "      <td>aba9aac2-4495-4645-a60e-90328713c999</td>\n",
              "      <td>1</td>\n",
              "    </tr>\n",
              "    <tr>\n",
              "      <th>2</th>\n",
              "      <td>b345b5dc-c804-4d77-a39f-1f4e65d1f1ad</td>\n",
              "      <td>0</td>\n",
              "    </tr>\n",
              "    <tr>\n",
              "      <th>3</th>\n",
              "      <td>ce1b400e-afa1-4946-bdff-004b859eb61c</td>\n",
              "      <td>1</td>\n",
              "    </tr>\n",
              "    <tr>\n",
              "      <th>4</th>\n",
              "      <td>c4fbec0d-8e2e-4db2-9d4f-a6ccb9f51214</td>\n",
              "      <td>1</td>\n",
              "    </tr>\n",
              "  </tbody>\n",
              "</table>\n",
              "</div>\n",
              "    <div class=\"colab-df-buttons\">\n",
              "\n",
              "  <div class=\"colab-df-container\">\n",
              "    <button class=\"colab-df-convert\" onclick=\"convertToInteractive('df-013e06be-d433-4cc6-b93e-7633f49a3a95')\"\n",
              "            title=\"Convert this dataframe to an interactive table.\"\n",
              "            style=\"display:none;\">\n",
              "\n",
              "  <svg xmlns=\"http://www.w3.org/2000/svg\" height=\"24px\" viewBox=\"0 -960 960 960\">\n",
              "    <path d=\"M120-120v-720h720v720H120Zm60-500h600v-160H180v160Zm220 220h160v-160H400v160Zm0 220h160v-160H400v160ZM180-400h160v-160H180v160Zm440 0h160v-160H620v160ZM180-180h160v-160H180v160Zm440 0h160v-160H620v160Z\"/>\n",
              "  </svg>\n",
              "    </button>\n",
              "\n",
              "  <style>\n",
              "    .colab-df-container {\n",
              "      display:flex;\n",
              "      gap: 12px;\n",
              "    }\n",
              "\n",
              "    .colab-df-convert {\n",
              "      background-color: #E8F0FE;\n",
              "      border: none;\n",
              "      border-radius: 50%;\n",
              "      cursor: pointer;\n",
              "      display: none;\n",
              "      fill: #1967D2;\n",
              "      height: 32px;\n",
              "      padding: 0 0 0 0;\n",
              "      width: 32px;\n",
              "    }\n",
              "\n",
              "    .colab-df-convert:hover {\n",
              "      background-color: #E2EBFA;\n",
              "      box-shadow: 0px 1px 2px rgba(60, 64, 67, 0.3), 0px 1px 3px 1px rgba(60, 64, 67, 0.15);\n",
              "      fill: #174EA6;\n",
              "    }\n",
              "\n",
              "    .colab-df-buttons div {\n",
              "      margin-bottom: 4px;\n",
              "    }\n",
              "\n",
              "    [theme=dark] .colab-df-convert {\n",
              "      background-color: #3B4455;\n",
              "      fill: #D2E3FC;\n",
              "    }\n",
              "\n",
              "    [theme=dark] .colab-df-convert:hover {\n",
              "      background-color: #434B5C;\n",
              "      box-shadow: 0px 1px 3px 1px rgba(0, 0, 0, 0.15);\n",
              "      filter: drop-shadow(0px 1px 2px rgba(0, 0, 0, 0.3));\n",
              "      fill: #FFFFFF;\n",
              "    }\n",
              "  </style>\n",
              "\n",
              "    <script>\n",
              "      const buttonEl =\n",
              "        document.querySelector('#df-013e06be-d433-4cc6-b93e-7633f49a3a95 button.colab-df-convert');\n",
              "      buttonEl.style.display =\n",
              "        google.colab.kernel.accessAllowed ? 'block' : 'none';\n",
              "\n",
              "      async function convertToInteractive(key) {\n",
              "        const element = document.querySelector('#df-013e06be-d433-4cc6-b93e-7633f49a3a95');\n",
              "        const dataTable =\n",
              "          await google.colab.kernel.invokeFunction('convertToInteractive',\n",
              "                                                    [key], {});\n",
              "        if (!dataTable) return;\n",
              "\n",
              "        const docLinkHtml = 'Like what you see? Visit the ' +\n",
              "          '<a target=\"_blank\" href=https://colab.research.google.com/notebooks/data_table.ipynb>data table notebook</a>'\n",
              "          + ' to learn more about interactive tables.';\n",
              "        element.innerHTML = '';\n",
              "        dataTable['output_type'] = 'display_data';\n",
              "        await google.colab.output.renderOutput(dataTable, element);\n",
              "        const docLink = document.createElement('div');\n",
              "        docLink.innerHTML = docLinkHtml;\n",
              "        element.appendChild(docLink);\n",
              "      }\n",
              "    </script>\n",
              "  </div>\n",
              "\n",
              "\n",
              "<div id=\"df-dfdb82e7-8686-40b1-8593-348b44dccc8f\">\n",
              "  <button class=\"colab-df-quickchart\" onclick=\"quickchart('df-dfdb82e7-8686-40b1-8593-348b44dccc8f')\"\n",
              "            title=\"Suggest charts.\"\n",
              "            style=\"display:none;\">\n",
              "\n",
              "<svg xmlns=\"http://www.w3.org/2000/svg\" height=\"24px\"viewBox=\"0 0 24 24\"\n",
              "     width=\"24px\">\n",
              "    <g>\n",
              "        <path d=\"M19 3H5c-1.1 0-2 .9-2 2v14c0 1.1.9 2 2 2h14c1.1 0 2-.9 2-2V5c0-1.1-.9-2-2-2zM9 17H7v-7h2v7zm4 0h-2V7h2v10zm4 0h-2v-4h2v4z\"/>\n",
              "    </g>\n",
              "</svg>\n",
              "  </button>\n",
              "\n",
              "<style>\n",
              "  .colab-df-quickchart {\n",
              "      --bg-color: #E8F0FE;\n",
              "      --fill-color: #1967D2;\n",
              "      --hover-bg-color: #E2EBFA;\n",
              "      --hover-fill-color: #174EA6;\n",
              "      --disabled-fill-color: #AAA;\n",
              "      --disabled-bg-color: #DDD;\n",
              "  }\n",
              "\n",
              "  [theme=dark] .colab-df-quickchart {\n",
              "      --bg-color: #3B4455;\n",
              "      --fill-color: #D2E3FC;\n",
              "      --hover-bg-color: #434B5C;\n",
              "      --hover-fill-color: #FFFFFF;\n",
              "      --disabled-bg-color: #3B4455;\n",
              "      --disabled-fill-color: #666;\n",
              "  }\n",
              "\n",
              "  .colab-df-quickchart {\n",
              "    background-color: var(--bg-color);\n",
              "    border: none;\n",
              "    border-radius: 50%;\n",
              "    cursor: pointer;\n",
              "    display: none;\n",
              "    fill: var(--fill-color);\n",
              "    height: 32px;\n",
              "    padding: 0;\n",
              "    width: 32px;\n",
              "  }\n",
              "\n",
              "  .colab-df-quickchart:hover {\n",
              "    background-color: var(--hover-bg-color);\n",
              "    box-shadow: 0 1px 2px rgba(60, 64, 67, 0.3), 0 1px 3px 1px rgba(60, 64, 67, 0.15);\n",
              "    fill: var(--button-hover-fill-color);\n",
              "  }\n",
              "\n",
              "  .colab-df-quickchart-complete:disabled,\n",
              "  .colab-df-quickchart-complete:disabled:hover {\n",
              "    background-color: var(--disabled-bg-color);\n",
              "    fill: var(--disabled-fill-color);\n",
              "    box-shadow: none;\n",
              "  }\n",
              "\n",
              "  .colab-df-spinner {\n",
              "    border: 2px solid var(--fill-color);\n",
              "    border-color: transparent;\n",
              "    border-bottom-color: var(--fill-color);\n",
              "    animation:\n",
              "      spin 1s steps(1) infinite;\n",
              "  }\n",
              "\n",
              "  @keyframes spin {\n",
              "    0% {\n",
              "      border-color: transparent;\n",
              "      border-bottom-color: var(--fill-color);\n",
              "      border-left-color: var(--fill-color);\n",
              "    }\n",
              "    20% {\n",
              "      border-color: transparent;\n",
              "      border-left-color: var(--fill-color);\n",
              "      border-top-color: var(--fill-color);\n",
              "    }\n",
              "    30% {\n",
              "      border-color: transparent;\n",
              "      border-left-color: var(--fill-color);\n",
              "      border-top-color: var(--fill-color);\n",
              "      border-right-color: var(--fill-color);\n",
              "    }\n",
              "    40% {\n",
              "      border-color: transparent;\n",
              "      border-right-color: var(--fill-color);\n",
              "      border-top-color: var(--fill-color);\n",
              "    }\n",
              "    60% {\n",
              "      border-color: transparent;\n",
              "      border-right-color: var(--fill-color);\n",
              "    }\n",
              "    80% {\n",
              "      border-color: transparent;\n",
              "      border-right-color: var(--fill-color);\n",
              "      border-bottom-color: var(--fill-color);\n",
              "    }\n",
              "    90% {\n",
              "      border-color: transparent;\n",
              "      border-bottom-color: var(--fill-color);\n",
              "    }\n",
              "  }\n",
              "</style>\n",
              "\n",
              "  <script>\n",
              "    async function quickchart(key) {\n",
              "      const quickchartButtonEl =\n",
              "        document.querySelector('#' + key + ' button');\n",
              "      quickchartButtonEl.disabled = true;  // To prevent multiple clicks.\n",
              "      quickchartButtonEl.classList.add('colab-df-spinner');\n",
              "      try {\n",
              "        const charts = await google.colab.kernel.invokeFunction(\n",
              "            'suggestCharts', [key], {});\n",
              "      } catch (error) {\n",
              "        console.error('Error during call to suggestCharts:', error);\n",
              "      }\n",
              "      quickchartButtonEl.classList.remove('colab-df-spinner');\n",
              "      quickchartButtonEl.classList.add('colab-df-quickchart-complete');\n",
              "    }\n",
              "    (() => {\n",
              "      let quickchartButtonEl =\n",
              "        document.querySelector('#df-dfdb82e7-8686-40b1-8593-348b44dccc8f button');\n",
              "      quickchartButtonEl.style.display =\n",
              "        google.colab.kernel.accessAllowed ? 'block' : 'none';\n",
              "    })();\n",
              "  </script>\n",
              "</div>\n",
              "    </div>\n",
              "  </div>\n"
            ]
          },
          "metadata": {},
          "execution_count": 30
        }
      ],
      "source": [
        "df_resultado.head()"
      ]
    },
    {
      "cell_type": "markdown",
      "metadata": {
        "id": "guN-sPrvp5Gr"
      },
      "source": [
        "### Exportación"
      ]
    },
    {
      "cell_type": "code",
      "execution_count": null,
      "metadata": {
        "id": "aLBM1wLMYP-C"
      },
      "outputs": [],
      "source": [
        "df_resultado.to_csv(\"resultado_stacking.csv\", index=False)"
      ]
    },
    {
      "cell_type": "markdown",
      "metadata": {
        "id": "yMzACMnl-pmi"
      },
      "source": [
        "# Guardado del modelo"
      ]
    },
    {
      "cell_type": "code",
      "execution_count": null,
      "metadata": {
        "id": "PLaobjtW-pmi",
        "colab": {
          "base_uri": "https://localhost:8080/"
        },
        "outputId": "0b7c35eb-ef12-4b64-e716-1fddbf22cd13"
      },
      "outputs": [
        {
          "output_type": "execute_result",
          "data": {
            "text/plain": [
              "['modelo_stacking.joblib']"
            ]
          },
          "metadata": {},
          "execution_count": 33
        }
      ],
      "source": [
        "joblib.dump(stacking, \"modelo_stacking.joblib\")"
      ]
    }
  ]
}