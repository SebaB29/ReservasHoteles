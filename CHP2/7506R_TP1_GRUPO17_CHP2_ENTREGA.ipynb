{
  "cells": [
    {
      "cell_type": "markdown",
      "metadata": {
        "id": "_O0vsbwNDa4V"
      },
      "source": [
        "<!DOCTYPE html>\n",
        "<html>\n",
        "  <body>\n",
        "    <div align=center>\n",
        "      <h1><b>Organización de Datos</b></h1>\n",
        "      <p>Cátedra Rodriguez - 95.58</p>\n",
        "      <img src=\"https://upload.wikimedia.org/wikipedia/commons/thumb/0/0d/FIUBA_gris_transparente.png/800px-FIUBA_gris_transparente.png\" alt=\"logo\" width=\"300\">\n",
        "      <h2><b>Trabajo Práctico N°1: Reservas de Hotel</b></h2>\n",
        "    </div>\n",
        "    <h3>Integrantes del <b>Grupo 17 (Systeam)</b></h3>\n",
        "    <ul>\n",
        "        <li>Agha Zadeh Dehdeh, Lucía. P: 106905</li>\n",
        "        <li>Brizuela, Sebastián. P: 105288</li>\n",
        "        <li>Del Rio, Juan Sebastián. P: 103337</li>\n",
        "    </ul>\n",
        "  </body>\n",
        "</html>"
      ]
    },
    {
      "cell_type": "markdown",
      "metadata": {
        "id": "3IOoC9KlsocT"
      },
      "source": [
        "# Librerías"
      ]
    },
    {
      "cell_type": "code",
      "execution_count": 103,
      "metadata": {
        "id": "V08_Db4fDT1J"
      },
      "outputs": [],
      "source": [
        "import pandas as pd\n",
        "import numpy as np\n",
        "\n",
        "#Visualización\n",
        "import matplotlib.pyplot as plt\n",
        "import seaborn as sns\n",
        "\n",
        "#Modelos y métricas\n",
        "from sklearn.tree import DecisionTreeClassifier, plot_tree\n",
        "from sklearn.ensemble import RandomForestClassifier\n",
        "from sklearn.model_selection import train_test_split, StratifiedKFold, RandomizedSearchCV\n",
        "from sklearn.metrics import precision_score, recall_score, accuracy_score, f1_score\n",
        "from sklearn.metrics import confusion_matrix, classification_report\n",
        "\n",
        "#Reglas\n",
        "from sklearn.tree import export_text\n",
        "\n",
        "#Configuración warnings\n",
        "import warnings\n",
        "warnings.simplefilter(action=\"ignore\", category=FutureWarning)\n",
        "warnings.simplefilter(action=\"ignore\", category=UserWarning)"
      ]
    },
    {
      "cell_type": "markdown",
      "metadata": {
        "id": "kZEoVXpiyZ5u"
      },
      "source": [
        "# Dataframe Principal"
      ]
    },
    {
      "cell_type": "markdown",
      "metadata": {
        "id": "2mwRdRsvqnfZ"
      },
      "source": [
        "### Carga del dataframe"
      ]
    },
    {
      "cell_type": "code",
      "execution_count": 26,
      "metadata": {
        "id": "Qb0FPsA7BWKY"
      },
      "outputs": [],
      "source": [
        "DF_HOTEL_TRAIN = pd.read_csv(\"./sample_data/hotel_train_procesado.csv\") # Cargamos en memoria el dataset"
      ]
    },
    {
      "cell_type": "code",
      "execution_count": 27,
      "metadata": {
        "id": "ZYjUOO0dRDaB"
      },
      "outputs": [],
      "source": [
        "df_hotel_copy = DF_HOTEL_TRAIN.copy()"
      ]
    },
    {
      "cell_type": "markdown",
      "metadata": {
        "id": "p-HjUssJqz_i"
      },
      "source": [
        "###Preprocesamiento"
      ]
    },
    {
      "cell_type": "markdown",
      "metadata": {
        "id": "mmgC_WDcA4KF"
      },
      "source": [
        "Se determinó como nuevas variables relevantes “market_segment“, “distribution_channel“, “customer_type“, “required_car_parking_spaces“ al analizar nuevamente los gráficos, realizar pruebas con los modelos implementados y ver una mejoría en las métricas."
      ]
    },
    {
      "cell_type": "code",
      "execution_count": 28,
      "metadata": {
        "id": "mCkz5isPcszN"
      },
      "outputs": [],
      "source": [
        "columnas_a_eliminar = [\n",
        "    \"children\", \"arrival_date_year\", \"arrival_date_month\",\n",
        "    \"arrival_date_week_number\", \"arrival_date_day_of_month\",\n",
        "    \"stays_in_weekend_nights\", \"stays_in_week_nights\", \"babies\",\n",
        "    \"meal\", \"adr\", \"id\", \"cantidad_personas_total\"\n",
        "]\n",
        "\n",
        "df_hotel_copy.drop(columnas_a_eliminar, axis=\"columns\", inplace=True)\n"
      ]
    },
    {
      "cell_type": "code",
      "execution_count": 29,
      "metadata": {
        "id": "rNTjuReUQuSU"
      },
      "outputs": [],
      "source": [
        "columnas_categoricas = [\"hotel\", \"country\", \"reserved_room_type\", \"assigned_room_type\", \"deposit_type\",\"agent\", 'market_segment', 'distribution_channel', 'customer_type']\n",
        "\n",
        "#One Hot encoding\n",
        "df_hotel_copy = pd.get_dummies(df_hotel_copy, columns=columnas_categoricas, drop_first=True)\n"
      ]
    },
    {
      "cell_type": "code",
      "execution_count": 30,
      "metadata": {
        "id": "OqEEyJAYT0OX"
      },
      "outputs": [],
      "source": [
        "df_hotel_copy.sort_index(axis=\"columns\", inplace=True) # Reordeno para que coincida el orden con df_hotel_test"
      ]
    },
    {
      "cell_type": "markdown",
      "metadata": {
        "id": "mhd9FR0m2_KB"
      },
      "source": [
        "# Árboles de decisión"
      ]
    },
    {
      "cell_type": "markdown",
      "metadata": {
        "id": "a8x55m0ey2-b"
      },
      "source": [
        "## Target"
      ]
    },
    {
      "cell_type": "code",
      "execution_count": 31,
      "metadata": {
        "colab": {
          "base_uri": "https://localhost:8080/"
        },
        "id": "_ycpyV20rHsn",
        "outputId": "5d895608-2327-4f18-ea32-1547c4a06e8a"
      },
      "outputs": [
        {
          "data": {
            "text/plain": [
              "1    50.221485\n",
              "0    49.778515\n",
              "Name: is_canceled, dtype: float64"
            ]
          },
          "execution_count": 31,
          "metadata": {},
          "output_type": "execute_result"
        }
      ],
      "source": [
        "target = \"is_canceled\"\n",
        "\n",
        "#Se muestra el porcentaje de aparición de cada clase\n",
        "df_hotel_copy[target].value_counts(normalize=True) * 100"
      ]
    },
    {
      "cell_type": "markdown",
      "metadata": {
        "id": "JAtvcDKR50mq"
      },
      "source": [
        "## División de datos entrenamiento y prueba"
      ]
    },
    {
      "cell_type": "code",
      "execution_count": 32,
      "metadata": {
        "colab": {
          "base_uri": "https://localhost:8080/"
        },
        "id": "bIHpdcAy6BTU",
        "outputId": "845992c2-db3e-4599-cb71-d25fbbdff4e9"
      },
      "outputs": [
        {
          "name": "stdout",
          "output_type": "stream",
          "text": [
            "# Datos Entrenamiento: 48220\n",
            "# Datos Prueba: 12055\n"
          ]
        }
      ],
      "source": [
        "df_hotel_copy_x = df_hotel_copy.drop([target], axis=\"columns\" ,inplace=False)\n",
        "\n",
        "df_hotel_copy_y = df_hotel_copy[target].copy()\n",
        "\n",
        "x_train, x_test, y_train, y_test = train_test_split(df_hotel_copy_x, df_hotel_copy_y, test_size = 0.2, random_state = 17, stratify = df_hotel_copy[target].values)\n",
        "\n",
        "print(f\"# Datos Entrenamiento: {len(x_train)}\")\n",
        "print(f\"# Datos Prueba: {len(x_test)}\")"
      ]
    },
    {
      "cell_type": "markdown",
      "metadata": {
        "id": "CqyDn1K7cWo1"
      },
      "source": [
        "## Opciones"
      ]
    },
    {
      "cell_type": "markdown",
      "metadata": {
        "id": "l4AhxBt4AoCB"
      },
      "source": [
        "Se optó por iniciar la construcción de árboles de decisión utilizando hiperparámetros arbitrarios como primera elección. Posteriormente, para mejorar su rendimiento y precisión, se implementó la técnica de validación cruzada k-fold con RandomizedSearchCV. Además, se incorporó la técnica de poda en el proceso."
      ]
    },
    {
      "cell_type": "markdown",
      "metadata": {
        "id": "5J2fycKOpT1c"
      },
      "source": [
        "### Primera opción (DecisionTreeClassifier y Hiperparámetros arbitrarios)"
      ]
    },
    {
      "cell_type": "markdown",
      "metadata": {
        "id": "_tnihh73rRtm"
      },
      "source": [
        "#### Modelo"
      ]
    },
    {
      "cell_type": "code",
      "execution_count": null,
      "metadata": {
        "id": "nJGieZ2zYcbB"
      },
      "outputs": [],
      "source": [
        "#Creación del clasificador con hiperparámetros arbitrarios\n",
        "tree_model = DecisionTreeClassifier(criterion = \"entropy\",\n",
        "                                         max_depth = 20,\n",
        "                                         min_samples_leaf = 10)"
      ]
    },
    {
      "cell_type": "code",
      "execution_count": null,
      "metadata": {
        "id": "OdaYb42a7NAa"
      },
      "outputs": [],
      "source": [
        "#Entrenamiento del model\n",
        "model = tree_model.fit(X = x_train, y = y_train)"
      ]
    },
    {
      "cell_type": "markdown",
      "metadata": {
        "id": "y-G7AiId78gD"
      },
      "source": [
        "#### Predicción"
      ]
    },
    {
      "cell_type": "code",
      "execution_count": null,
      "metadata": {
        "id": "RNiq72oR78Lw"
      },
      "outputs": [],
      "source": [
        "y_pred = model.predict(x_test)"
      ]
    },
    {
      "cell_type": "markdown",
      "metadata": {
        "id": "2Aj9jgT4rW60"
      },
      "source": [
        "#### Metricas"
      ]
    },
    {
      "cell_type": "code",
      "execution_count": null,
      "metadata": {
        "colab": {
          "base_uri": "https://localhost:8080/"
        },
        "id": "T9XXJkegcSHG",
        "outputId": "667f6bd4-7075-4854-9aac-0abdc50a9556"
      },
      "outputs": [
        {
          "name": "stdout",
          "output_type": "stream",
          "text": [
            "Accuracy:  0.8147984294641376\n",
            "Recall:  0.8195052539404554\n",
            "Precision:  0.8172242536702505\n",
            "f1 score:  0.8149559159682159\n"
          ]
        }
      ],
      "source": [
        "#Calculo las métricas en el conjunto de evaluación\n",
        "print(\"Accuracy: \", accuracy_score(y_test, y_pred))\n",
        "print(\"Recall: \", recall_score(y_test, y_pred))\n",
        "print(\"Precision: \", f1_score(y_test, y_pred))\n",
        "print(\"f1 score: \", precision_score(y_test, y_pred))"
      ]
    },
    {
      "cell_type": "markdown",
      "metadata": {
        "id": "OR8jJe8txBAO"
      },
      "source": [
        "#### Matriz de confusión"
      ]
    },
    {
      "cell_type": "code",
      "execution_count": null,
      "metadata": {
        "id": "e_qv-bR9YpAs"
      },
      "outputs": [],
      "source": [
        "cm = confusion_matrix(y_test, y_pred)"
      ]
    },
    {
      "cell_type": "code",
      "execution_count": null,
      "metadata": {
        "colab": {
          "base_uri": "https://localhost:8080/"
        },
        "id": "mvlpZTSNxET3",
        "outputId": "420aa501-bdcd-484a-ad93-f2a812f1e8cc"
      },
      "outputs": [
        {
          "data": {
            "text/plain": [
              "Text(50.722222222222214, 0.5, 'True')"
            ]
          },
          "execution_count": 61,
          "metadata": {},
          "output_type": "execute_result"
        },
        {
          "data": {
            "image/png": "[encoded data removed]",
            "text/plain": [
              "<Figure size 640x480 with 2 Axes>"
            ]
          },
          "metadata": {},
          "output_type": "display_data"
        }
      ],
      "source": [
        "sns.heatmap(\n",
        "    data = cm,\n",
        "    cmap = \"Blues\",\n",
        "    annot = True,\n",
        "    fmt = \"g\"\n",
        ")\n",
        "\n",
        "plt.xlabel(\"Predicted\")\n",
        "plt.ylabel(\"True\")"
      ]
    },
    {
      "cell_type": "markdown",
      "metadata": {
        "id": "JhxNCdk56qPO"
      },
      "source": [
        "### Segunda opción (DecisionTreeClassifier y Hiperparámetros arbitrarios con poda)"
      ]
    },
    {
      "cell_type": "markdown",
      "metadata": {
        "id": "6ArOeP886qPO"
      },
      "source": [
        "#### Modelo"
      ]
    },
    {
      "cell_type": "code",
      "execution_count": 59,
      "metadata": {
        "id": "x_953qwr6qPO"
      },
      "outputs": [],
      "source": [
        "#Creación del clasificador con hiperparámetros arbitrarios\n",
        "tree_model_poda = DecisionTreeClassifier(criterion = \"entropy\",\n",
        "                                    max_depth = 20,\n",
        "                                    min_samples_leaf = 10,\n",
        "                                    ccp_alpha=0.01)"
      ]
    },
    {
      "cell_type": "code",
      "execution_count": 60,
      "metadata": {
        "id": "L0L0nNOT6qPP"
      },
      "outputs": [],
      "source": [
        "#Entrenamiento del model\n",
        "model_poda = tree_model_poda.fit(X = x_train, y = y_train)"
      ]
    },
    {
      "cell_type": "markdown",
      "metadata": {
        "id": "SUadr_5H6qPP"
      },
      "source": [
        "#### Predicción"
      ]
    },
    {
      "cell_type": "code",
      "execution_count": 61,
      "metadata": {
        "id": "zxkglmeS6qPP"
      },
      "outputs": [],
      "source": [
        "y_pred_poda = model_poda.predict(x_test)"
      ]
    },
    {
      "cell_type": "markdown",
      "metadata": {
        "id": "ErxZ6VA16qPQ"
      },
      "source": [
        "#### Metricas"
      ]
    },
    {
      "cell_type": "code",
      "execution_count": 62,
      "metadata": {
        "colab": {
          "base_uri": "https://localhost:8080/"
        },
        "id": "IJ8_92dI6qPQ",
        "outputId": "e26e3979-a827-48ae-bdca-b980e900eb87"
      },
      "outputs": [
        {
          "name": "stdout",
          "output_type": "stream",
          "text": [
            "Accuracy:  0.7901285773537952\n",
            "Recall:  0.7978196233894945\n",
            "Precision:  0.7924528301886792\n",
            "f1 score:  0.7871577574967406\n"
          ]
        }
      ],
      "source": [
        "#Calculo las métricas en el conjunto de evaluación\n",
        "print(\"Accuracy: \", accuracy_score(y_test, y_pred_poda))\n",
        "print(\"Recall: \", recall_score(y_test, y_pred_poda))\n",
        "print(\"Precision: \", f1_score(y_test, y_pred_poda))\n",
        "print(\"f1 score: \", precision_score(y_test, y_pred_poda))"
      ]
    },
    {
      "cell_type": "markdown",
      "metadata": {
        "id": "nGjM2As16qPR"
      },
      "source": [
        "#### Matriz de confusión"
      ]
    },
    {
      "cell_type": "code",
      "execution_count": 63,
      "metadata": {
        "id": "WWNK7e8p6qPR"
      },
      "outputs": [],
      "source": [
        "cm = confusion_matrix(y_test, y_pred_poda)"
      ]
    },
    {
      "cell_type": "code",
      "execution_count": 64,
      "metadata": {
        "colab": {
          "base_uri": "https://localhost:8080/",
          "height": 0
        },
        "id": "Odjh4KN86qPR",
        "outputId": "e82cdd83-ef3a-42eb-f83f-3d9d54e6572a"
      },
      "outputs": [
        {
          "data": {
            "text/plain": [
              "Text(50.722222222222214, 0.5, 'True')"
            ]
          },
          "execution_count": 64,
          "metadata": {},
          "output_type": "execute_result"
        },
        {
          "data": {
            "image/png": "[encoded data removed]",
            "text/plain": [
              "<Figure size 640x480 with 2 Axes>"
            ]
          },
          "metadata": {},
          "output_type": "display_data"
        }
      ],
      "source": [
        "sns.heatmap(\n",
        "    data = cm,\n",
        "    cmap = \"Blues\",\n",
        "    annot = True,\n",
        "    fmt = \"g\"\n",
        ")\n",
        "\n",
        "plt.xlabel(\"Predicted\")\n",
        "plt.ylabel(\"True\")"
      ]
    },
    {
      "cell_type": "markdown",
      "metadata": {
        "id": "B6ydEZvUwm8I"
      },
      "source": [
        "### Tercera opción (DecisionTreeClassifier y RandomSearchCV)"
      ]
    },
    {
      "cell_type": "markdown",
      "metadata": {
        "id": "6DlmjBByAf_3"
      },
      "source": [
        "En este proceso de búsqueda, se emplearon 8 folds para evaluar diferentes combinaciones de hiperparámetros de manera eficiente.\n",
        "La métrica adecuada que se consideró fue f1-score ya que además de ser relevante para la competencia en Kaggle también combina dos medidas importantes a saber, la  precisión y recall.\n",
        "\n",
        "Esta fue la opción que obtuvo la mejor perfonmance."
      ]
    },
    {
      "cell_type": "markdown",
      "metadata": {
        "id": "bbe8B2-Pz3Yw"
      },
      "source": [
        "#### Busqueda de los mejores hiperparámetros"
      ]
    },
    {
      "cell_type": "code",
      "execution_count": 65,
      "metadata": {
        "id": "qg6NUpf-Zrdh"
      },
      "outputs": [],
      "source": [
        "#Cantidad de combinaciones que quiero porbar\n",
        "n = 10\n",
        "\n",
        "#Conjunto de parámetros que quiero usar\n",
        "params_grid = {\n",
        "    \"criterion\": [\"gini\", \"entropy\"],\n",
        "    \"min_samples_leaf\": range(5, 8),\n",
        "    \"min_samples_split\":  range(20, 23),\n",
        "    \"ccp_alpha\": np.linspace(0, 0.0001, n),\n",
        "    \"max_depth\": range(25, 30)\n",
        "}"
      ]
    },
    {
      "cell_type": "code",
      "execution_count": 66,
      "metadata": {
        "id": "EUE2xGIHaEld"
      },
      "outputs": [],
      "source": [
        "#KFold Estratificado\n",
        "\n",
        "#Cantidad de splits para el Cross Validation\n",
        "folds = 8\n",
        "\n",
        "kfoldcv = StratifiedKFold(n_splits=folds)"
      ]
    },
    {
      "cell_type": "code",
      "execution_count": 67,
      "metadata": {
        "id": "pe9E0rYGaVI8"
      },
      "outputs": [],
      "source": [
        "#Clasificador\n",
        "base_tree = DecisionTreeClassifier()"
      ]
    },
    {
      "cell_type": "code",
      "execution_count": 68,
      "metadata": {
        "id": "ubqSgfqUxcJn"
      },
      "outputs": [],
      "source": [
        "#Random Search Cross Validation\n",
        "randomcv = RandomizedSearchCV(estimator = base_tree,\n",
        "                              param_distributions = params_grid,\n",
        "                              scoring = \"f1\",\n",
        "                              cv = kfoldcv,\n",
        "                              n_iter = n)"
      ]
    },
    {
      "cell_type": "code",
      "execution_count": 69,
      "metadata": {
        "colab": {
          "base_uri": "https://localhost:8080/",
          "height": 118
        },
        "id": "cl_AnQmLadz-",
        "outputId": "7f35f263-9aa8-4554-8101-f87a14ae10c3"
      },
      "outputs": [
        {
          "data": {
            "text/html": [
              "<style>#sk-container-id-6 {color: black;background-color: white;}#sk-container-id-6 pre{padding: 0;}#sk-container-id-6 div.sk-toggleable {background-color: white;}#sk-container-id-6 label.sk-toggleable__label {cursor: pointer;display: block;width: 100%;margin-bottom: 0;padding: 0.3em;box-sizing: border-box;text-align: center;}#sk-container-id-6 label.sk-toggleable__label-arrow:before {content: \"▸\";float: left;margin-right: 0.25em;color: #696969;}#sk-container-id-6 label.sk-toggleable__label-arrow:hover:before {color: black;}#sk-container-id-6 div.sk-estimator:hover label.sk-toggleable__label-arrow:before {color: black;}#sk-container-id-6 div.sk-toggleable__content {max-height: 0;max-width: 0;overflow: hidden;text-align: left;background-color: #f0f8ff;}#sk-container-id-6 div.sk-toggleable__content pre {margin: 0.2em;color: black;border-radius: 0.25em;background-color: #f0f8ff;}#sk-container-id-6 input.sk-toggleable__control:checked~div.sk-toggleable__content {max-height: 200px;max-width: 100%;overflow: auto;}#sk-container-id-6 input.sk-toggleable__control:checked~label.sk-toggleable__label-arrow:before {content: \"▾\";}#sk-container-id-6 div.sk-estimator input.sk-toggleable__control:checked~label.sk-toggleable__label {background-color: #d4ebff;}#sk-container-id-6 div.sk-label input.sk-toggleable__control:checked~label.sk-toggleable__label {background-color: #d4ebff;}#sk-container-id-6 input.sk-hidden--visually {border: 0;clip: rect(1px 1px 1px 1px);clip: rect(1px, 1px, 1px, 1px);height: 1px;margin: -1px;overflow: hidden;padding: 0;position: absolute;width: 1px;}#sk-container-id-6 div.sk-estimator {font-family: monospace;background-color: #f0f8ff;border: 1px dotted black;border-radius: 0.25em;box-sizing: border-box;margin-bottom: 0.5em;}#sk-container-id-6 div.sk-estimator:hover {background-color: #d4ebff;}#sk-container-id-6 div.sk-parallel-item::after {content: \"\";width: 100%;border-bottom: 1px solid gray;flex-grow: 1;}#sk-container-id-6 div.sk-label:hover label.sk-toggleable__label {background-color: #d4ebff;}#sk-container-id-6 div.sk-serial::before {content: \"\";position: absolute;border-left: 1px solid gray;box-sizing: border-box;top: 0;bottom: 0;left: 50%;z-index: 0;}#sk-container-id-6 div.sk-serial {display: flex;flex-direction: column;align-items: center;background-color: white;padding-right: 0.2em;padding-left: 0.2em;position: relative;}#sk-container-id-6 div.sk-item {position: relative;z-index: 1;}#sk-container-id-6 div.sk-parallel {display: flex;align-items: stretch;justify-content: center;background-color: white;position: relative;}#sk-container-id-6 div.sk-item::before, #sk-container-id-6 div.sk-parallel-item::before {content: \"\";position: absolute;border-left: 1px solid gray;box-sizing: border-box;top: 0;bottom: 0;left: 50%;z-index: -1;}#sk-container-id-6 div.sk-parallel-item {display: flex;flex-direction: column;z-index: 1;position: relative;background-color: white;}#sk-container-id-6 div.sk-parallel-item:first-child::after {align-self: flex-end;width: 50%;}#sk-container-id-6 div.sk-parallel-item:last-child::after {align-self: flex-start;width: 50%;}#sk-container-id-6 div.sk-parallel-item:only-child::after {width: 0;}#sk-container-id-6 div.sk-dashed-wrapped {border: 1px dashed gray;margin: 0 0.4em 0.5em 0.4em;box-sizing: border-box;padding-bottom: 0.4em;background-color: white;}#sk-container-id-6 div.sk-label label {font-family: monospace;font-weight: bold;display: inline-block;line-height: 1.2em;}#sk-container-id-6 div.sk-label-container {text-align: center;}#sk-container-id-6 div.sk-container {/* jupyter's `normalize.less` sets `[hidden] { display: none; }` but bootstrap.min.css set `[hidden] { display: none !important; }` so we also need the `!important` here to be able to override the default hidden behavior on the sphinx rendered scikit-learn.org. See: https://github.com/scikit-learn/scikit-learn/issues/21755 */display: inline-block !important;position: relative;}#sk-container-id-6 div.sk-text-repr-fallback {display: none;}</style><div id=\"sk-container-id-6\" class=\"sk-top-container\"><div class=\"sk-text-repr-fallback\"><pre>RandomizedSearchCV(cv=StratifiedKFold(n_splits=8, random_state=None, shuffle=False),\n",
              "                   estimator=DecisionTreeClassifier(),\n",
              "                   param_distributions={&#x27;ccp_alpha&#x27;: array([0.00000000e+00, 1.11111111e-05, 2.22222222e-05, 3.33333333e-05,\n",
              "       4.44444444e-05, 5.55555556e-05, 6.66666667e-05, 7.77777778e-05,\n",
              "       8.88888889e-05, 1.00000000e-04]),\n",
              "                                        &#x27;criterion&#x27;: [&#x27;gini&#x27;, &#x27;entropy&#x27;],\n",
              "                                        &#x27;max_depth&#x27;: range(25, 30),\n",
              "                                        &#x27;min_samples_leaf&#x27;: range(5, 8),\n",
              "                                        &#x27;min_samples_split&#x27;: range(20, 23)},\n",
              "                   scoring=&#x27;f1&#x27;)</pre><b>In a Jupyter environment, please rerun this cell to show the HTML representation or trust the notebook. <br />On GitHub, the HTML representation is unable to render, please try loading this page with nbviewer.org.</b></div><div class=\"sk-container\" hidden><div class=\"sk-item sk-dashed-wrapped\"><div class=\"sk-label-container\"><div class=\"sk-label sk-toggleable\"><input class=\"sk-toggleable__control sk-hidden--visually\" id=\"sk-estimator-id-10\" type=\"checkbox\" ><label for=\"sk-estimator-id-10\" class=\"sk-toggleable__label sk-toggleable__label-arrow\">RandomizedSearchCV</label><div class=\"sk-toggleable__content\"><pre>RandomizedSearchCV(cv=StratifiedKFold(n_splits=8, random_state=None, shuffle=False),\n",
              "                   estimator=DecisionTreeClassifier(),\n",
              "                   param_distributions={&#x27;ccp_alpha&#x27;: array([0.00000000e+00, 1.11111111e-05, 2.22222222e-05, 3.33333333e-05,\n",
              "       4.44444444e-05, 5.55555556e-05, 6.66666667e-05, 7.77777778e-05,\n",
              "       8.88888889e-05, 1.00000000e-04]),\n",
              "                                        &#x27;criterion&#x27;: [&#x27;gini&#x27;, &#x27;entropy&#x27;],\n",
              "                                        &#x27;max_depth&#x27;: range(25, 30),\n",
              "                                        &#x27;min_samples_leaf&#x27;: range(5, 8),\n",
              "                                        &#x27;min_samples_split&#x27;: range(20, 23)},\n",
              "                   scoring=&#x27;f1&#x27;)</pre></div></div></div><div class=\"sk-parallel\"><div class=\"sk-parallel-item\"><div class=\"sk-item\"><div class=\"sk-label-container\"><div class=\"sk-label sk-toggleable\"><input class=\"sk-toggleable__control sk-hidden--visually\" id=\"sk-estimator-id-11\" type=\"checkbox\" ><label for=\"sk-estimator-id-11\" class=\"sk-toggleable__label sk-toggleable__label-arrow\">estimator: DecisionTreeClassifier</label><div class=\"sk-toggleable__content\"><pre>DecisionTreeClassifier()</pre></div></div></div><div class=\"sk-serial\"><div class=\"sk-item\"><div class=\"sk-estimator sk-toggleable\"><input class=\"sk-toggleable__control sk-hidden--visually\" id=\"sk-estimator-id-12\" type=\"checkbox\" ><label for=\"sk-estimator-id-12\" class=\"sk-toggleable__label sk-toggleable__label-arrow\">DecisionTreeClassifier</label><div class=\"sk-toggleable__content\"><pre>DecisionTreeClassifier()</pre></div></div></div></div></div></div></div></div></div></div>"
            ],
            "text/plain": [
              "RandomizedSearchCV(cv=StratifiedKFold(n_splits=8, random_state=None, shuffle=False),\n",
              "                   estimator=DecisionTreeClassifier(),\n",
              "                   param_distributions={'ccp_alpha': array([0.00000000e+00, 1.11111111e-05, 2.22222222e-05, 3.33333333e-05,\n",
              "       4.44444444e-05, 5.55555556e-05, 6.66666667e-05, 7.77777778e-05,\n",
              "       8.88888889e-05, 1.00000000e-04]),\n",
              "                                        'criterion': ['gini', 'entropy'],\n",
              "                                        'max_depth': range(25, 30),\n",
              "                                        'min_samples_leaf': range(5, 8),\n",
              "                                        'min_samples_split': range(20, 23)},\n",
              "                   scoring='f1')"
            ]
          },
          "execution_count": 69,
          "metadata": {},
          "output_type": "execute_result"
        }
      ],
      "source": [
        "#Busco los hiperparamtros que optimizan F1 Score\n",
        "randomcv.fit(x_train, y_train)"
      ]
    },
    {
      "cell_type": "code",
      "execution_count": 70,
      "metadata": {
        "colab": {
          "base_uri": "https://localhost:8080/"
        },
        "id": "_MxnNw5OzSkD",
        "outputId": "a14a51c8-5eb4-4371-84d9-86a3f55162a8"
      },
      "outputs": [
        {
          "name": "stdout",
          "output_type": "stream",
          "text": [
            "{'min_samples_split': 22, 'min_samples_leaf': 5, 'max_depth': 27, 'criterion': 'gini', 'ccp_alpha': 5.555555555555556e-05}\n",
            "0.8446684101636628\n"
          ]
        }
      ],
      "source": [
        "#Mejores hiperparametros del arbol\n",
        "print(randomcv.best_params_)\n",
        "\n",
        "#Mejor métrica\n",
        "print(randomcv.best_score_)"
      ]
    },
    {
      "cell_type": "markdown",
      "metadata": {
        "id": "2YkJAJekz89O"
      },
      "source": [
        "#### Árbol con mejores parámetros"
      ]
    },
    {
      "cell_type": "code",
      "execution_count": 72,
      "metadata": {
        "id": "_rYwwKIOa2UF"
      },
      "outputs": [],
      "source": [
        "#Creo el árbol con los mejores hiperparámetros\n",
        "arbol_kfold = DecisionTreeClassifier().set_params(**randomcv.best_params_)"
      ]
    },
    {
      "cell_type": "code",
      "execution_count": 73,
      "metadata": {
        "colab": {
          "base_uri": "https://localhost:8080/",
          "height": 92
        },
        "id": "Iva3qnGtzewy",
        "outputId": "f9022041-0e48-4408-e2c3-c5d01093bc1a"
      },
      "outputs": [
        {
          "data": {
            "text/html": [
              "<style>#sk-container-id-7 {color: black;background-color: white;}#sk-container-id-7 pre{padding: 0;}#sk-container-id-7 div.sk-toggleable {background-color: white;}#sk-container-id-7 label.sk-toggleable__label {cursor: pointer;display: block;width: 100%;margin-bottom: 0;padding: 0.3em;box-sizing: border-box;text-align: center;}#sk-container-id-7 label.sk-toggleable__label-arrow:before {content: \"▸\";float: left;margin-right: 0.25em;color: #696969;}#sk-container-id-7 label.sk-toggleable__label-arrow:hover:before {color: black;}#sk-container-id-7 div.sk-estimator:hover label.sk-toggleable__label-arrow:before {color: black;}#sk-container-id-7 div.sk-toggleable__content {max-height: 0;max-width: 0;overflow: hidden;text-align: left;background-color: #f0f8ff;}#sk-container-id-7 div.sk-toggleable__content pre {margin: 0.2em;color: black;border-radius: 0.25em;background-color: #f0f8ff;}#sk-container-id-7 input.sk-toggleable__control:checked~div.sk-toggleable__content {max-height: 200px;max-width: 100%;overflow: auto;}#sk-container-id-7 input.sk-toggleable__control:checked~label.sk-toggleable__label-arrow:before {content: \"▾\";}#sk-container-id-7 div.sk-estimator input.sk-toggleable__control:checked~label.sk-toggleable__label {background-color: #d4ebff;}#sk-container-id-7 div.sk-label input.sk-toggleable__control:checked~label.sk-toggleable__label {background-color: #d4ebff;}#sk-container-id-7 input.sk-hidden--visually {border: 0;clip: rect(1px 1px 1px 1px);clip: rect(1px, 1px, 1px, 1px);height: 1px;margin: -1px;overflow: hidden;padding: 0;position: absolute;width: 1px;}#sk-container-id-7 div.sk-estimator {font-family: monospace;background-color: #f0f8ff;border: 1px dotted black;border-radius: 0.25em;box-sizing: border-box;margin-bottom: 0.5em;}#sk-container-id-7 div.sk-estimator:hover {background-color: #d4ebff;}#sk-container-id-7 div.sk-parallel-item::after {content: \"\";width: 100%;border-bottom: 1px solid gray;flex-grow: 1;}#sk-container-id-7 div.sk-label:hover label.sk-toggleable__label {background-color: #d4ebff;}#sk-container-id-7 div.sk-serial::before {content: \"\";position: absolute;border-left: 1px solid gray;box-sizing: border-box;top: 0;bottom: 0;left: 50%;z-index: 0;}#sk-container-id-7 div.sk-serial {display: flex;flex-direction: column;align-items: center;background-color: white;padding-right: 0.2em;padding-left: 0.2em;position: relative;}#sk-container-id-7 div.sk-item {position: relative;z-index: 1;}#sk-container-id-7 div.sk-parallel {display: flex;align-items: stretch;justify-content: center;background-color: white;position: relative;}#sk-container-id-7 div.sk-item::before, #sk-container-id-7 div.sk-parallel-item::before {content: \"\";position: absolute;border-left: 1px solid gray;box-sizing: border-box;top: 0;bottom: 0;left: 50%;z-index: -1;}#sk-container-id-7 div.sk-parallel-item {display: flex;flex-direction: column;z-index: 1;position: relative;background-color: white;}#sk-container-id-7 div.sk-parallel-item:first-child::after {align-self: flex-end;width: 50%;}#sk-container-id-7 div.sk-parallel-item:last-child::after {align-self: flex-start;width: 50%;}#sk-container-id-7 div.sk-parallel-item:only-child::after {width: 0;}#sk-container-id-7 div.sk-dashed-wrapped {border: 1px dashed gray;margin: 0 0.4em 0.5em 0.4em;box-sizing: border-box;padding-bottom: 0.4em;background-color: white;}#sk-container-id-7 div.sk-label label {font-family: monospace;font-weight: bold;display: inline-block;line-height: 1.2em;}#sk-container-id-7 div.sk-label-container {text-align: center;}#sk-container-id-7 div.sk-container {/* jupyter's `normalize.less` sets `[hidden] { display: none; }` but bootstrap.min.css set `[hidden] { display: none !important; }` so we also need the `!important` here to be able to override the default hidden behavior on the sphinx rendered scikit-learn.org. See: https://github.com/scikit-learn/scikit-learn/issues/21755 */display: inline-block !important;position: relative;}#sk-container-id-7 div.sk-text-repr-fallback {display: none;}</style><div id=\"sk-container-id-7\" class=\"sk-top-container\"><div class=\"sk-text-repr-fallback\"><pre>DecisionTreeClassifier(ccp_alpha=5.555555555555556e-05, max_depth=27,\n",
              "                       min_samples_leaf=5, min_samples_split=22)</pre><b>In a Jupyter environment, please rerun this cell to show the HTML representation or trust the notebook. <br />On GitHub, the HTML representation is unable to render, please try loading this page with nbviewer.org.</b></div><div class=\"sk-container\" hidden><div class=\"sk-item\"><div class=\"sk-estimator sk-toggleable\"><input class=\"sk-toggleable__control sk-hidden--visually\" id=\"sk-estimator-id-13\" type=\"checkbox\" checked><label for=\"sk-estimator-id-13\" class=\"sk-toggleable__label sk-toggleable__label-arrow\">DecisionTreeClassifier</label><div class=\"sk-toggleable__content\"><pre>DecisionTreeClassifier(ccp_alpha=5.555555555555556e-05, max_depth=27,\n",
              "                       min_samples_leaf=5, min_samples_split=22)</pre></div></div></div></div></div>"
            ],
            "text/plain": [
              "DecisionTreeClassifier(ccp_alpha=5.555555555555556e-05, max_depth=27,\n",
              "                       min_samples_leaf=5, min_samples_split=22)"
            ]
          },
          "execution_count": 73,
          "metadata": {},
          "output_type": "execute_result"
        }
      ],
      "source": [
        "#Entreno el arbol en todo el set\n",
        "arbol_kfold.fit(x_train, y_train)"
      ]
    },
    {
      "cell_type": "markdown",
      "metadata": {
        "id": "H1IRHyZ00XmV"
      },
      "source": [
        "#### Predicción"
      ]
    },
    {
      "cell_type": "code",
      "execution_count": 74,
      "metadata": {
        "id": "Nkcd0Qcz0V-s"
      },
      "outputs": [],
      "source": [
        "y_pred_kfold = arbol_kfold.predict(x_test)"
      ]
    },
    {
      "cell_type": "markdown",
      "metadata": {
        "id": "TJ6k2n7f0A6D"
      },
      "source": [
        "#### Métricas"
      ]
    },
    {
      "cell_type": "code",
      "execution_count": 75,
      "metadata": {
        "colab": {
          "base_uri": "https://localhost:8080/"
        },
        "id": "zLZ_TPsbzrYN",
        "outputId": "792f7ffe-3ffc-40c1-c9b3-db10dafead21"
      },
      "outputs": [
        {
          "name": "stdout",
          "output_type": "stream",
          "text": [
            "Accuracy:  0.845707175445873\n",
            "Recall:  0.8386190948133465\n",
            "Precision:  0.8451806226069585\n",
            "f1 score:  0.8518456375838926\n"
          ]
        }
      ],
      "source": [
        "#Calculo las métricas en el conjunto de evaluación\n",
        "print(\"Accuracy: \", accuracy_score(y_test, y_pred_kfold))\n",
        "print(\"Recall: \", recall_score(y_test, y_pred_kfold))\n",
        "print(\"Precision: \", f1_score(y_test, y_pred_kfold))\n",
        "print(\"f1 score: \", precision_score(y_test, y_pred_kfold))"
      ]
    },
    {
      "cell_type": "markdown",
      "metadata": {
        "id": "BjHrV_MGzy0f"
      },
      "source": [
        "#### Matriz de confusión"
      ]
    },
    {
      "cell_type": "code",
      "execution_count": 95,
      "metadata": {
        "id": "HRdc6uWVbALo"
      },
      "outputs": [],
      "source": [
        "#Matriz de Confusion\n",
        "cm = confusion_matrix(y_test, y_pred_kfold)"
      ]
    },
    {
      "cell_type": "code",
      "execution_count": 96,
      "metadata": {
        "colab": {
          "base_uri": "https://localhost:8080/",
          "height": 466
        },
        "id": "adMSEnqMzilX",
        "outputId": "71c41556-71d2-4841-8952-ca8dfaef9767"
      },
      "outputs": [
        {
          "data": {
            "text/plain": [
              "Text(50.722222222222214, 0.5, 'True')"
            ]
          },
          "execution_count": 96,
          "metadata": {},
          "output_type": "execute_result"
        },
        {
          "data": {
            "image/png": "[encoded data removed]",
            "text/plain": [
              "<Figure size 640x480 with 2 Axes>"
            ]
          },
          "metadata": {},
          "output_type": "display_data"
        }
      ],
      "source": [
        "sns.heatmap(\n",
        "    data = cm,\n",
        "    cmap = \"Blues\",\n",
        "    annot = True,\n",
        "    fmt = \"g\"\n",
        ")\n",
        "\n",
        "plt.xlabel(\"Predicted\")\n",
        "plt.ylabel(\"True\")"
      ]
    },
    {
      "cell_type": "markdown",
      "metadata": {
        "id": "tyq9GwlZxmlr"
      },
      "source": [
        "# Gráfico del árbol de decisión con mejor performance"
      ]
    },
    {
      "cell_type": "code",
      "execution_count": 97,
      "metadata": {
        "colab": {
          "base_uri": "https://localhost:8080/",
          "height": 961
        },
        "id": "bmCaSN4MxzPt",
        "outputId": "b9e0326d-346c-4264-bd14-04e32462b9b0"
      },
      "outputs": [
        {
          "data": {
            "image/png": "[encoded data removed]",
            "text/plain": [
              "<Figure size 1200x1200 with 1 Axes>"
            ]
          },
          "metadata": {},
          "output_type": "display_data"
        }
      ],
      "source": [
        "plt.figure(figsize = (12, 12))\n",
        "\n",
        "tree_plot = plot_tree(\n",
        "    decision_tree = arbol_kfold,\n",
        "    max_depth = 2,\n",
        "    feature_names = df_hotel_copy_x.columns.to_list(),\n",
        "    filled = True,\n",
        "    rounded = True,\n",
        "    class_names = [\"No Cancelado\", \"Cancelado\"]\n",
        ")\n",
        "\n",
        "plt.show(tree_plot)"
      ]
    },
    {
      "cell_type": "markdown",
      "metadata": {
        "id": "_G5rmyELB1vE"
      },
      "source": [
        "## Reglas"
      ]
    },
    {
      "cell_type": "code",
      "execution_count": 105,
      "metadata": {
        "colab": {
          "base_uri": "https://localhost:8080/"
        },
        "id": "A7raDKpHBFAw",
        "outputId": "ee11b96a-db5e-45ea-f2ea-b941dd8be570"
      },
      "outputs": [
        {
          "name": "stdout",
          "output_type": "stream",
          "text": [
            "|--- deposit_type_Non Refund <= 0.50\n",
            "|   |--- lead_time <= 8.50\n",
            "|   |   |--- agent_134.0 <= 0.50\n",
            "|   |   |   |--- truncated branch of depth 16\n",
            "|   |   |--- agent_134.0 >  0.50\n",
            "|   |   |   |--- class: 1\n",
            "|   |--- lead_time >  8.50\n",
            "|   |   |--- country_PRT <= 0.50\n",
            "|   |   |   |--- truncated branch of depth 25\n",
            "|   |   |--- country_PRT >  0.50\n",
            "|   |   |   |--- truncated branch of depth 25\n",
            "|--- deposit_type_Non Refund >  0.50\n",
            "|   |--- country_DEU <= 0.50\n",
            "|   |   |--- market_segment_Direct <= 0.50\n",
            "|   |   |   |--- truncated branch of depth 3\n",
            "|   |   |--- market_segment_Direct >  0.50\n",
            "|   |   |   |--- class: 1\n",
            "|   |--- country_DEU >  0.50\n",
            "|   |   |--- class: 0\n",
            "\n"
          ]
        }
      ],
      "source": [
        "reglas = export_text(arbol_kfold, feature_names=list(df_hotel_copy_x), max_depth=2)\n",
        "print(reglas)"
      ]
    },
    {
      "cell_type": "markdown",
      "metadata": {
        "id": "Iu6bBBGhBBsK"
      },
      "source": [
        "Como regla principal clasifica si el tipo de depósito es NO reembolsable, en caso de serlo como segunda regla filtra según el país de origen en este caso Alemania. En caso de no serlo filtraría según el tiempo de espera."
      ]
    },
    {
      "cell_type": "markdown",
      "metadata": {
        "id": "dHknCDGOViS2"
      },
      "source": [
        "# Predicción con DF_HOTEL_TEST"
      ]
    },
    {
      "cell_type": "markdown",
      "metadata": {
        "id": "sY7--h35qCjV"
      },
      "source": [
        "### Carga del DataFrame TEST"
      ]
    },
    {
      "cell_type": "code",
      "execution_count": 79,
      "metadata": {
        "id": "6sDi_U3NHY-i"
      },
      "outputs": [],
      "source": [
        "DF_HOTEL_TEST = pd.read_csv((\"./sample_data/hotels_test.csv\"))"
      ]
    },
    {
      "cell_type": "code",
      "execution_count": 80,
      "metadata": {
        "id": "IpcJaIxFRdb9"
      },
      "outputs": [],
      "source": [
        "df_hotel_test_copy = DF_HOTEL_TEST.copy()"
      ]
    },
    {
      "cell_type": "markdown",
      "metadata": {
        "id": "PRZKcDVkqJyz"
      },
      "source": [
        "## Preprocesamiento"
      ]
    },
    {
      "cell_type": "markdown",
      "metadata": {
        "id": "sHn3qzrobXVO"
      },
      "source": [
        "### Tratamiento de datos faltantes"
      ]
    },
    {
      "cell_type": "code",
      "execution_count": 81,
      "metadata": {
        "id": "cOIjQCCFbXVO"
      },
      "outputs": [],
      "source": [
        "df_hotel_test_copy['agent'] = df_hotel_test_copy['agent'].fillna(\"Agencia no existe\")\n",
        "\n",
        "df_hotel_test_copy['country'] = df_hotel_test_copy['country'].fillna(df_hotel_test_copy['country'].mode()[0])"
      ]
    },
    {
      "cell_type": "markdown",
      "metadata": {
        "id": "a4L_hbiqbXVQ"
      },
      "source": [
        "### Eliminación de variables irrelavantes y/o con datos faltantes"
      ]
    },
    {
      "cell_type": "code",
      "execution_count": 82,
      "metadata": {
        "id": "tM_NkVYybXVS"
      },
      "outputs": [],
      "source": [
        "columnas_a_eliminar = [\n",
        "    \"children\", \"arrival_date_year\", \"arrival_date_month\",\n",
        "    \"arrival_date_week_number\", \"arrival_date_day_of_month\",\n",
        "    \"stays_in_weekend_nights\", \"stays_in_week_nights\", \"babies\",\n",
        "    \"meal\", \"adr\", \"id\", \"company\"\n",
        "]\n",
        "df_hotel_test_copy.drop(columnas_a_eliminar, axis=\"columns\", inplace=True)"
      ]
    },
    {
      "cell_type": "markdown",
      "metadata": {
        "id": "NZfTtEpjcCsR"
      },
      "source": [
        "### Transformación de las variables categoricas"
      ]
    },
    {
      "cell_type": "code",
      "execution_count": 83,
      "metadata": {
        "id": "q_D9lcVkcCsS"
      },
      "outputs": [],
      "source": [
        "#One Hot encoding\n",
        "df_hotel_test_copy = pd.get_dummies(df_hotel_test_copy, columns=columnas_categoricas, drop_first=True)"
      ]
    },
    {
      "cell_type": "markdown",
      "metadata": {
        "id": "sKxgJDMJnSnk"
      },
      "source": [
        "## Emparejamiento de los dataframes"
      ]
    },
    {
      "cell_type": "code",
      "execution_count": 84,
      "metadata": {
        "id": "KQki7xvVQLah"
      },
      "outputs": [],
      "source": [
        "columnas_df_train = set(df_hotel_copy.columns) # Obtiene las columnas del primer DataFrame\n",
        "columnas_df_test = set(df_hotel_test_copy.columns) # Obtiene las columnas del segundo DataFrame"
      ]
    },
    {
      "cell_type": "code",
      "execution_count": 85,
      "metadata": {
        "colab": {
          "base_uri": "https://localhost:8080/"
        },
        "id": "K7EUoSXWS_1R",
        "outputId": "a760c3f2-4a46-4cce-810f-3ecf4b8f2500"
      },
      "outputs": [
        {
          "name": "stdout",
          "output_type": "stream",
          "text": [
            "{'agent_444.0', 'agent_165.0', 'agent_135.0', 'agent_232.0', 'country_UZB', 'agent_337.0', 'reserved_room_type_P', 'country_MLI', 'agent_367.0', 'agent_282.0', 'country_DMA', 'reservation_status_date', 'country_BFA', 'country_SMR', 'agent_363.0', 'agent_397.0', 'country_NIC', 'agent_150.0', 'country_ATF', 'country_KHM', 'assigned_room_type_P', 'country_TMP', 'country_SLV', 'agent_358.0', 'agent_213.0', 'agent_122.0', 'agent_510.0', 'agent_469.0', 'country_DJI', 'agent_331.0', 'agent_211.0', 'country_ASM'}\n"
          ]
        }
      ],
      "source": [
        "columnas_distintas = columnas_df_test.difference(columnas_df_train) # Encuentra las columnas que son distintas entre los DataFrames\n",
        "print(columnas_distintas)"
      ]
    },
    {
      "cell_type": "code",
      "execution_count": 86,
      "metadata": {
        "id": "Wtnd9PKrhbxG"
      },
      "outputs": [],
      "source": [
        "df_hotel_test_copy.drop(columnas_distintas, axis=\"columns\", inplace=True) ##DESPUES CAMBIAR SOLUCIÓN"
      ]
    },
    {
      "cell_type": "code",
      "execution_count": 87,
      "metadata": {
        "colab": {
          "base_uri": "https://localhost:8080/"
        },
        "id": "M_r3Tbdti2-d",
        "outputId": "4085cf81-5352-465f-daa4-945df8c4abaf"
      },
      "outputs": [
        {
          "name": "stdout",
          "output_type": "stream",
          "text": [
            "{'agent_278.0', 'agent_431.0', 'country_SYC', 'market_segment_Undefined', 'agent_461.0', 'agent_247.0', 'agent_483.0', 'agent_441.0', 'agent_404.0', 'country_COM', 'agent_107.0', 'agent_451.0', 'agent_299.0', 'agent_497.0', 'agent_391.0', 'agent_430.0', 'country_VGB', 'agent_289.0', 'agent_24.0', 'country_TGO', 'is_canceled', 'country_NAM', 'country_AZE', 'agent_244.0', 'country_KNA', 'agent_167.0', 'agent_144.0', 'country_PYF', 'agent_197.0', 'agent_214.0', 'agent_449.0', 'agent_414.0', 'country_SYR', 'country_MDG', 'country_MNE', 'agent_432.0', 'country_HND', 'agent_333.0', 'agent_455.0', 'agent_416.0', 'agent_352.0', 'country_BEN', 'country_PAN', 'country_ARM', 'agent_291.0', 'agent_265.0', 'agent_535.0', 'agent_304.0', 'country_MUS', 'country_GTM', 'agent_283.0', 'agent_509.0', 'country_MYT', 'country_ETH', 'agent_388.0', 'distribution_channel_Undefined', 'assigned_room_type_L', 'agent_418.0', 'agent_321.0', 'country_SDN', 'country_UMI', 'agent_59.0', 'agent_472.0', 'country_CIV', 'agent_476.0', 'country_FRO', 'country_KEN', 'agent_405.0', 'agent_270.0', 'agent_267.0', 'country_FJI', 'agent_93.0', 'agent_438.0', 'agent_450.0', 'agent_173.0', 'country_ZMB', 'agent_427.0', 'agent_481.0', 'agent_114.0', 'agent_301.0', 'agent_179.0'}\n"
          ]
        }
      ],
      "source": [
        "columnas_distintas = columnas_df_train.difference(columnas_df_test) # Encuentra las columnas que son distintas entre los DataFrames\n",
        "print(columnas_distintas)"
      ]
    },
    {
      "cell_type": "code",
      "execution_count": 88,
      "metadata": {
        "id": "7-YRNEhFlmPP"
      },
      "outputs": [],
      "source": [
        "for columna in columnas_distintas:\n",
        "  df_hotel_test_copy[columna] = 0"
      ]
    },
    {
      "cell_type": "code",
      "execution_count": 89,
      "metadata": {
        "id": "g2WDQxIKU3PX"
      },
      "outputs": [],
      "source": [
        "df_hotel_test_copy.drop([\"is_canceled\"], axis=\"columns\", inplace=True)"
      ]
    },
    {
      "cell_type": "markdown",
      "metadata": {
        "id": "bIpFd-MfocnF"
      },
      "source": [
        "### Reordenamiento"
      ]
    },
    {
      "cell_type": "code",
      "execution_count": 90,
      "metadata": {
        "id": "uLTp15vITrgh"
      },
      "outputs": [],
      "source": [
        "df_hotel_test_copy.sort_index(axis=\"columns\", inplace=True)"
      ]
    },
    {
      "cell_type": "markdown",
      "metadata": {
        "id": "Siw4GcwKpgUh"
      },
      "source": [
        "## Predicción del conjunto de test y submits para la competencia Kaggle"
      ]
    },
    {
      "cell_type": "code",
      "execution_count": 91,
      "metadata": {
        "colab": {
          "base_uri": "https://localhost:8080/"
        },
        "id": "IJplRid9eT1o",
        "outputId": "b81f235a-cf80-4397-829d-9c869c405f1b"
      },
      "outputs": [
        {
          "name": "stdout",
          "output_type": "stream",
          "text": [
            "[1 1 0 ... 1 1 0]\n"
          ]
        }
      ],
      "source": [
        "test_pred = arbol_kfold.predict(df_hotel_test_copy)\n",
        "print(test_pred)"
      ]
    },
    {
      "cell_type": "markdown",
      "metadata": {
        "id": "CvcUNPZUp3Di"
      },
      "source": [
        "### Resultado"
      ]
    },
    {
      "cell_type": "code",
      "execution_count": 92,
      "metadata": {
        "id": "LObnlSF_Xnuc"
      },
      "outputs": [],
      "source": [
        "df_resultado = pd.DataFrame(\n",
        "    {\"id\": DF_HOTEL_TEST[\"id\"],\n",
        "    \"is_canceled\": test_pred}\n",
        ")"
      ]
    },
    {
      "cell_type": "code",
      "execution_count": 93,
      "metadata": {
        "colab": {
          "base_uri": "https://localhost:8080/",
          "height": 0
        },
        "id": "TGya6HtWVCZx",
        "outputId": "968b82d1-a645-4f6c-99c2-b69e711d2945"
      },
      "outputs": [
        {
          "data": {
            "text/html": [
              "\n",
              "  <div id=\"df-a7d6adca-60d4-40e5-9e59-7b0c442ea94f\" class=\"colab-df-container\">\n",
              "    <div>\n",
              "<style scoped>\n",
              "    .dataframe tbody tr th:only-of-type {\n",
              "        vertical-align: middle;\n",
              "    }\n",
              "\n",
              "    .dataframe tbody tr th {\n",
              "        vertical-align: top;\n",
              "    }\n",
              "\n",
              "    .dataframe thead th {\n",
              "        text-align: right;\n",
              "    }\n",
              "</style>\n",
              "<table border=\"1\" class=\"dataframe\">\n",
              "  <thead>\n",
              "    <tr style=\"text-align: right;\">\n",
              "      <th></th>\n",
              "      <th>id</th>\n",
              "      <th>is_canceled</th>\n",
              "    </tr>\n",
              "  </thead>\n",
              "  <tbody>\n",
              "    <tr>\n",
              "      <th>0</th>\n",
              "      <td>e6d0d58a-ab96-44d3-b28f-85df1cc15f1e</td>\n",
              "      <td>1</td>\n",
              "    </tr>\n",
              "    <tr>\n",
              "      <th>1</th>\n",
              "      <td>aba9aac2-4495-4645-a60e-90328713c999</td>\n",
              "      <td>1</td>\n",
              "    </tr>\n",
              "    <tr>\n",
              "      <th>2</th>\n",
              "      <td>b345b5dc-c804-4d77-a39f-1f4e65d1f1ad</td>\n",
              "      <td>0</td>\n",
              "    </tr>\n",
              "    <tr>\n",
              "      <th>3</th>\n",
              "      <td>ce1b400e-afa1-4946-bdff-004b859eb61c</td>\n",
              "      <td>1</td>\n",
              "    </tr>\n",
              "    <tr>\n",
              "      <th>4</th>\n",
              "      <td>c4fbec0d-8e2e-4db2-9d4f-a6ccb9f51214</td>\n",
              "      <td>1</td>\n",
              "    </tr>\n",
              "  </tbody>\n",
              "</table>\n",
              "</div>\n",
              "    <div class=\"colab-df-buttons\">\n",
              "\n",
              "  <div class=\"colab-df-container\">\n",
              "    <button class=\"colab-df-convert\" onclick=\"convertToInteractive('df-a7d6adca-60d4-40e5-9e59-7b0c442ea94f')\"\n",
              "            title=\"Convert this dataframe to an interactive table.\"\n",
              "            style=\"display:none;\">\n",
              "\n",
              "  <svg xmlns=\"http://www.w3.org/2000/svg\" height=\"24px\" viewBox=\"0 -960 960 960\">\n",
              "    <path d=\"M120-120v-720h720v720H120Zm60-500h600v-160H180v160Zm220 220h160v-160H400v160Zm0 220h160v-160H400v160ZM180-400h160v-160H180v160Zm440 0h160v-160H620v160ZM180-180h160v-160H180v160Zm440 0h160v-160H620v160Z\"/>\n",
              "  </svg>\n",
              "    </button>\n",
              "\n",
              "  <style>\n",
              "    .colab-df-container {\n",
              "      display:flex;\n",
              "      gap: 12px;\n",
              "    }\n",
              "\n",
              "    .colab-df-convert {\n",
              "      background-color: #E8F0FE;\n",
              "      border: none;\n",
              "      border-radius: 50%;\n",
              "      cursor: pointer;\n",
              "      display: none;\n",
              "      fill: #1967D2;\n",
              "      height: 32px;\n",
              "      padding: 0 0 0 0;\n",
              "      width: 32px;\n",
              "    }\n",
              "\n",
              "    .colab-df-convert:hover {\n",
              "      background-color: #E2EBFA;\n",
              "      box-shadow: 0px 1px 2px rgba(60, 64, 67, 0.3), 0px 1px 3px 1px rgba(60, 64, 67, 0.15);\n",
              "      fill: #174EA6;\n",
              "    }\n",
              "\n",
              "    .colab-df-buttons div {\n",
              "      margin-bottom: 4px;\n",
              "    }\n",
              "\n",
              "    [theme=dark] .colab-df-convert {\n",
              "      background-color: #3B4455;\n",
              "      fill: #D2E3FC;\n",
              "    }\n",
              "\n",
              "    [theme=dark] .colab-df-convert:hover {\n",
              "      background-color: #434B5C;\n",
              "      box-shadow: 0px 1px 3px 1px rgba(0, 0, 0, 0.15);\n",
              "      filter: drop-shadow(0px 1px 2px rgba(0, 0, 0, 0.3));\n",
              "      fill: #FFFFFF;\n",
              "    }\n",
              "  </style>\n",
              "\n",
              "    <script>\n",
              "      const buttonEl =\n",
              "        document.querySelector('#df-a7d6adca-60d4-40e5-9e59-7b0c442ea94f button.colab-df-convert');\n",
              "      buttonEl.style.display =\n",
              "        google.colab.kernel.accessAllowed ? 'block' : 'none';\n",
              "\n",
              "      async function convertToInteractive(key) {\n",
              "        const element = document.querySelector('#df-a7d6adca-60d4-40e5-9e59-7b0c442ea94f');\n",
              "        const dataTable =\n",
              "          await google.colab.kernel.invokeFunction('convertToInteractive',\n",
              "                                                    [key], {});\n",
              "        if (!dataTable) return;\n",
              "\n",
              "        const docLinkHtml = 'Like what you see? Visit the ' +\n",
              "          '<a target=\"_blank\" href=https://colab.research.google.com/notebooks/data_table.ipynb>data table notebook</a>'\n",
              "          + ' to learn more about interactive tables.';\n",
              "        element.innerHTML = '';\n",
              "        dataTable['output_type'] = 'display_data';\n",
              "        await google.colab.output.renderOutput(dataTable, element);\n",
              "        const docLink = document.createElement('div');\n",
              "        docLink.innerHTML = docLinkHtml;\n",
              "        element.appendChild(docLink);\n",
              "      }\n",
              "    </script>\n",
              "  </div>\n",
              "\n",
              "\n",
              "<div id=\"df-1b697d17-77cc-4d96-8536-4e11d9336046\">\n",
              "  <button class=\"colab-df-quickchart\" onclick=\"quickchart('df-1b697d17-77cc-4d96-8536-4e11d9336046')\"\n",
              "            title=\"Suggest charts.\"\n",
              "            style=\"display:none;\">\n",
              "\n",
              "<svg xmlns=\"http://www.w3.org/2000/svg\" height=\"24px\"viewBox=\"0 0 24 24\"\n",
              "     width=\"24px\">\n",
              "    <g>\n",
              "        <path d=\"M19 3H5c-1.1 0-2 .9-2 2v14c0 1.1.9 2 2 2h14c1.1 0 2-.9 2-2V5c0-1.1-.9-2-2-2zM9 17H7v-7h2v7zm4 0h-2V7h2v10zm4 0h-2v-4h2v4z\"/>\n",
              "    </g>\n",
              "</svg>\n",
              "  </button>\n",
              "\n",
              "<style>\n",
              "  .colab-df-quickchart {\n",
              "      --bg-color: #E8F0FE;\n",
              "      --fill-color: #1967D2;\n",
              "      --hover-bg-color: #E2EBFA;\n",
              "      --hover-fill-color: #174EA6;\n",
              "      --disabled-fill-color: #AAA;\n",
              "      --disabled-bg-color: #DDD;\n",
              "  }\n",
              "\n",
              "  [theme=dark] .colab-df-quickchart {\n",
              "      --bg-color: #3B4455;\n",
              "      --fill-color: #D2E3FC;\n",
              "      --hover-bg-color: #434B5C;\n",
              "      --hover-fill-color: #FFFFFF;\n",
              "      --disabled-bg-color: #3B4455;\n",
              "      --disabled-fill-color: #666;\n",
              "  }\n",
              "\n",
              "  .colab-df-quickchart {\n",
              "    background-color: var(--bg-color);\n",
              "    border: none;\n",
              "    border-radius: 50%;\n",
              "    cursor: pointer;\n",
              "    display: none;\n",
              "    fill: var(--fill-color);\n",
              "    height: 32px;\n",
              "    padding: 0;\n",
              "    width: 32px;\n",
              "  }\n",
              "\n",
              "  .colab-df-quickchart:hover {\n",
              "    background-color: var(--hover-bg-color);\n",
              "    box-shadow: 0 1px 2px rgba(60, 64, 67, 0.3), 0 1px 3px 1px rgba(60, 64, 67, 0.15);\n",
              "    fill: var(--button-hover-fill-color);\n",
              "  }\n",
              "\n",
              "  .colab-df-quickchart-complete:disabled,\n",
              "  .colab-df-quickchart-complete:disabled:hover {\n",
              "    background-color: var(--disabled-bg-color);\n",
              "    fill: var(--disabled-fill-color);\n",
              "    box-shadow: none;\n",
              "  }\n",
              "\n",
              "  .colab-df-spinner {\n",
              "    border: 2px solid var(--fill-color);\n",
              "    border-color: transparent;\n",
              "    border-bottom-color: var(--fill-color);\n",
              "    animation:\n",
              "      spin 1s steps(1) infinite;\n",
              "  }\n",
              "\n",
              "  @keyframes spin {\n",
              "    0% {\n",
              "      border-color: transparent;\n",
              "      border-bottom-color: var(--fill-color);\n",
              "      border-left-color: var(--fill-color);\n",
              "    }\n",
              "    20% {\n",
              "      border-color: transparent;\n",
              "      border-left-color: var(--fill-color);\n",
              "      border-top-color: var(--fill-color);\n",
              "    }\n",
              "    30% {\n",
              "      border-color: transparent;\n",
              "      border-left-color: var(--fill-color);\n",
              "      border-top-color: var(--fill-color);\n",
              "      border-right-color: var(--fill-color);\n",
              "    }\n",
              "    40% {\n",
              "      border-color: transparent;\n",
              "      border-right-color: var(--fill-color);\n",
              "      border-top-color: var(--fill-color);\n",
              "    }\n",
              "    60% {\n",
              "      border-color: transparent;\n",
              "      border-right-color: var(--fill-color);\n",
              "    }\n",
              "    80% {\n",
              "      border-color: transparent;\n",
              "      border-right-color: var(--fill-color);\n",
              "      border-bottom-color: var(--fill-color);\n",
              "    }\n",
              "    90% {\n",
              "      border-color: transparent;\n",
              "      border-bottom-color: var(--fill-color);\n",
              "    }\n",
              "  }\n",
              "</style>\n",
              "\n",
              "  <script>\n",
              "    async function quickchart(key) {\n",
              "      const quickchartButtonEl =\n",
              "        document.querySelector('#' + key + ' button');\n",
              "      quickchartButtonEl.disabled = true;  // To prevent multiple clicks.\n",
              "      quickchartButtonEl.classList.add('colab-df-spinner');\n",
              "      try {\n",
              "        const charts = await google.colab.kernel.invokeFunction(\n",
              "            'suggestCharts', [key], {});\n",
              "      } catch (error) {\n",
              "        console.error('Error during call to suggestCharts:', error);\n",
              "      }\n",
              "      quickchartButtonEl.classList.remove('colab-df-spinner');\n",
              "      quickchartButtonEl.classList.add('colab-df-quickchart-complete');\n",
              "    }\n",
              "    (() => {\n",
              "      let quickchartButtonEl =\n",
              "        document.querySelector('#df-1b697d17-77cc-4d96-8536-4e11d9336046 button');\n",
              "      quickchartButtonEl.style.display =\n",
              "        google.colab.kernel.accessAllowed ? 'block' : 'none';\n",
              "    })();\n",
              "  </script>\n",
              "</div>\n",
              "    </div>\n",
              "  </div>\n"
            ],
            "text/plain": [
              "                                     id  is_canceled\n",
              "0  e6d0d58a-ab96-44d3-b28f-85df1cc15f1e            1\n",
              "1  aba9aac2-4495-4645-a60e-90328713c999            1\n",
              "2  b345b5dc-c804-4d77-a39f-1f4e65d1f1ad            0\n",
              "3  ce1b400e-afa1-4946-bdff-004b859eb61c            1\n",
              "4  c4fbec0d-8e2e-4db2-9d4f-a6ccb9f51214            1"
            ]
          },
          "execution_count": 93,
          "metadata": {},
          "output_type": "execute_result"
        }
      ],
      "source": [
        "df_resultado.head()"
      ]
    },
    {
      "cell_type": "markdown",
      "metadata": {
        "id": "guN-sPrvp5Gr"
      },
      "source": [
        "### Exportación"
      ]
    },
    {
      "cell_type": "code",
      "execution_count": 94,
      "metadata": {
        "id": "aLBM1wLMYP-C"
      },
      "outputs": [],
      "source": [
        "df_resultado.to_csv(\"resultado.csv\", index=False)"
      ]
    },
    {
      "cell_type": "markdown",
      "metadata": {},
      "source": [
        "# Guardado del modelo"
      ]
    },
    {
      "cell_type": "code",
      "execution_count": null,
      "metadata": {},
      "outputs": [],
      "source": [
        "# Guardado del modelo\n",
        "\n",
        "import joblib\n",
        "\n",
        "joblib.dump(arbol_kfold, \"modelo_arbol.joblib\")"
      ]
    }
  ],
  "metadata": {
    "colab": {
      "collapsed_sections": [
        "3IOoC9KlsocT",
        "kZEoVXpiyZ5u",
        "2mwRdRsvqnfZ",
        "p-HjUssJqz_i",
        "EZCHutcXqvFF",
        "ELF3amK8mcFd",
        "sY7--h35qCjV",
        "sHn3qzrobXVO",
        "a4L_hbiqbXVQ",
        "NZfTtEpjcCsR",
        "sKxgJDMJnSnk",
        "bIpFd-MfocnF",
        "mhd9FR0m2_KB",
        "a8x55m0ey2-b",
        "5J2fycKOpT1c",
        "JAtvcDKR50mq",
        "nmIJ7Tqd6Ncx",
        "_tnihh73rRtm",
        "y-G7AiId78gD",
        "OR8jJe8txBAO",
        "2Aj9jgT4rW60",
        "B6ydEZvUwm8I",
        "bbe8B2-Pz3Yw",
        "2YkJAJekz89O",
        "H1IRHyZ00XmV",
        "BjHrV_MGzy0f",
        "TJ6k2n7f0A6D",
        "tyq9GwlZxmlr",
        "Siw4GcwKpgUh"
      ],
      "provenance": []
    },
    "kernelspec": {
      "display_name": "Python 3",
      "name": "python3"
    },
    "language_info": {
      "name": "python"
    }
  },
  "nbformat": 4,
  "nbformat_minor": 0
}
